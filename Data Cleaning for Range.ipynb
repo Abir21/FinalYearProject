{
 "cells": [
  {
   "cell_type": "code",
   "execution_count": 1,
   "id": "41e68d20",
   "metadata": {},
   "outputs": [
    {
     "name": "stdout",
     "output_type": "stream",
     "text": [
      "Requirement already satisfied: sklearn in c:\\users\\abirm\\envs\\acceptance_venv\\lib\\site-packages (0.0)\n",
      "Requirement already satisfied: scikit-learn in c:\\users\\abirm\\envs\\acceptance_venv\\lib\\site-packages (from sklearn) (1.0.2)\n",
      "Requirement already satisfied: joblib>=0.11 in c:\\users\\abirm\\envs\\acceptance_venv\\lib\\site-packages (from scikit-learn->sklearn) (1.0.1)\n",
      "Requirement already satisfied: scipy>=1.1.0 in c:\\users\\abirm\\envs\\acceptance_venv\\lib\\site-packages (from scikit-learn->sklearn) (1.8.0)\n",
      "Requirement already satisfied: numpy>=1.14.6 in c:\\users\\abirm\\envs\\acceptance_venv\\lib\\site-packages (from scikit-learn->sklearn) (1.21.6)\n",
      "Requirement already satisfied: threadpoolctl>=2.0.0 in c:\\users\\abirm\\envs\\acceptance_venv\\lib\\site-packages (from scikit-learn->sklearn) (3.1.0)\n",
      "Note: you may need to restart the kernel to use updated packages.\n"
     ]
    }
   ],
   "source": [
    "%pip install sklearn"
   ]
  },
  {
   "cell_type": "code",
   "execution_count": 2,
   "id": "bd596844",
   "metadata": {},
   "outputs": [],
   "source": [
    "import pandas as pd\n",
    "import numpy as np\n",
    "import sklearn\n",
    "from sklearn.feature_extraction.text import CountVectorizer, TfidfTransformer\n",
    "from sklearn.pipeline import Pipeline"
   ]
  },
  {
   "cell_type": "code",
   "execution_count": 3,
   "id": "bebd579c",
   "metadata": {},
   "outputs": [],
   "source": [
    "refugee = pd.read_csv('1milrefugee_f_dataset.csv', index_col=0)\n"
   ]
  },
  {
   "cell_type": "code",
   "execution_count": 4,
   "id": "41a6f274",
   "metadata": {},
   "outputs": [],
   "source": [
    "df = refugee.copy()"
   ]
  },
  {
   "cell_type": "code",
   "execution_count": 5,
   "id": "bc812f54",
   "metadata": {},
   "outputs": [
    {
     "data": {
      "text/plain": [
       "no impact             731932\n",
       "medium impact          91535\n",
       "general impact         69310\n",
       "medium-high impact     53942\n",
       "medium-low impact      31616\n",
       "high-low impac         13851\n",
       "low impact              2771\n",
       "high impact             2095\n",
       "super impact            1807\n",
       "high-high impact        1141\n",
       "Name: impact_level, dtype: int64"
      ]
     },
     "execution_count": 5,
     "metadata": {},
     "output_type": "execute_result"
    }
   ],
   "source": [
    "df['impact_level'].value_counts()"
   ]
  },
  {
   "cell_type": "code",
   "execution_count": 6,
   "id": "3e4b55b2",
   "metadata": {},
   "outputs": [],
   "source": [
    "df = df.drop(['id', 'predicted_new_occupation', 'predicted_new_income', 'predicted_living_cost', 'predicted_tax_rate', 'predicted_tax_ammount', 'discretionary_income', 'would_relying_on', 'predicted_unchr_mandatory_contribution_amount_of_all', 'accepted_refugee_unhcr_contribution_prediction', 'single_family_support_contribution', 'number_of_refugee_family_supported', 'qualified_for_unhcr_mandatory_contribution', 'impact_level'], axis=1)"
   ]
  },
  {
   "cell_type": "code",
   "execution_count": 7,
   "id": "6e136e2b",
   "metadata": {},
   "outputs": [
    {
     "data": {
      "text/html": [
       "<div>\n",
       "<style scoped>\n",
       "    .dataframe tbody tr th:only-of-type {\n",
       "        vertical-align: middle;\n",
       "    }\n",
       "\n",
       "    .dataframe tbody tr th {\n",
       "        vertical-align: top;\n",
       "    }\n",
       "\n",
       "    .dataframe thead th {\n",
       "        text-align: right;\n",
       "    }\n",
       "</style>\n",
       "<table border=\"1\" class=\"dataframe\">\n",
       "  <thead>\n",
       "    <tr style=\"text-align: right;\">\n",
       "      <th></th>\n",
       "      <th>language</th>\n",
       "      <th>education_level</th>\n",
       "      <th>last_occupation</th>\n",
       "      <th>predicted_employment_nation</th>\n",
       "      <th>mandatory_contribution_range</th>\n",
       "    </tr>\n",
       "  </thead>\n",
       "  <tbody>\n",
       "    <tr>\n",
       "      <th>999995</th>\n",
       "      <td>Native + English</td>\n",
       "      <td>Undergrad</td>\n",
       "      <td>Junior DevOps Professional</td>\n",
       "      <td>UK</td>\n",
       "      <td>£1488 to £6448</td>\n",
       "    </tr>\n",
       "    <tr>\n",
       "      <th>999996</th>\n",
       "      <td>Native</td>\n",
       "      <td>Primary</td>\n",
       "      <td>Not employed</td>\n",
       "      <td>UK</td>\n",
       "      <td>£1250 and lower</td>\n",
       "    </tr>\n",
       "    <tr>\n",
       "      <th>999997</th>\n",
       "      <td>Native + English</td>\n",
       "      <td>No Education</td>\n",
       "      <td>Construction Worker</td>\n",
       "      <td>UK</td>\n",
       "      <td>£1250 and lower</td>\n",
       "    </tr>\n",
       "    <tr>\n",
       "      <th>999998</th>\n",
       "      <td>Native + English</td>\n",
       "      <td>Masters</td>\n",
       "      <td>Senior Administrative Assistant</td>\n",
       "      <td>UK</td>\n",
       "      <td>£1250 and lower</td>\n",
       "    </tr>\n",
       "    <tr>\n",
       "      <th>999999</th>\n",
       "      <td>Native + French</td>\n",
       "      <td>High School</td>\n",
       "      <td>Baker</td>\n",
       "      <td>France</td>\n",
       "      <td>£1250 and lower</td>\n",
       "    </tr>\n",
       "  </tbody>\n",
       "</table>\n",
       "</div>"
      ],
      "text/plain": [
       "                language education_level                  last_occupation  \\\n",
       "999995  Native + English       Undergrad       Junior DevOps Professional   \n",
       "999996            Native         Primary                     Not employed   \n",
       "999997  Native + English    No Education              Construction Worker   \n",
       "999998  Native + English         Masters  Senior Administrative Assistant   \n",
       "999999   Native + French     High School                            Baker   \n",
       "\n",
       "       predicted_employment_nation mandatory_contribution_range  \n",
       "999995                          UK               £1488 to £6448  \n",
       "999996                          UK              £1250 and lower  \n",
       "999997                          UK              £1250 and lower  \n",
       "999998                          UK              £1250 and lower  \n",
       "999999                      France              £1250 and lower  "
      ]
     },
     "execution_count": 7,
     "metadata": {},
     "output_type": "execute_result"
    }
   ],
   "source": [
    "df.tail()"
   ]
  },
  {
   "cell_type": "code",
   "execution_count": 8,
   "id": "02e1bd65",
   "metadata": {},
   "outputs": [],
   "source": [
    "df.to_csv('1milrefugee_range_final_dataset.csv')"
   ]
  },
  {
   "cell_type": "code",
   "execution_count": null,
   "id": "f7bfb3f8",
   "metadata": {},
   "outputs": [],
   "source": []
  },
  {
   "cell_type": "code",
   "execution_count": null,
   "id": "b70766ed",
   "metadata": {},
   "outputs": [],
   "source": []
  },
  {
   "cell_type": "code",
   "execution_count": null,
   "id": "cddcde58",
   "metadata": {},
   "outputs": [],
   "source": []
  }
 ],
 "metadata": {
  "kernelspec": {
   "display_name": "Python 3 (ipykernel)",
   "language": "python",
   "name": "python3"
  },
  "language_info": {
   "codemirror_mode": {
    "name": "ipython",
    "version": 3
   },
   "file_extension": ".py",
   "mimetype": "text/x-python",
   "name": "python",
   "nbconvert_exporter": "python",
   "pygments_lexer": "ipython3",
   "version": "3.10.4"
  }
 },
 "nbformat": 4,
 "nbformat_minor": 5
}
