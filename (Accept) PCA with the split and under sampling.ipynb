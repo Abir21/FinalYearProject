{
 "cells": [
  {
   "cell_type": "code",
   "execution_count": 1,
   "id": "9dc6e14a",
   "metadata": {},
   "outputs": [
    {
     "name": "stdout",
     "output_type": "stream",
     "text": [
      "Requirement already satisfied: imbalanced-learn in c:\\users\\abirm\\envs\\acceptance_venv\\lib\\site-packages (0.9.0)\n",
      "Requirement already satisfied: numpy>=1.14.6 in c:\\users\\abirm\\envs\\acceptance_venv\\lib\\site-packages (from imbalanced-learn) (1.21.6)\n",
      "Requirement already satisfied: threadpoolctl>=2.0.0 in c:\\users\\abirm\\envs\\acceptance_venv\\lib\\site-packages (from imbalanced-learn) (3.1.0)\n",
      "Requirement already satisfied: joblib>=0.11 in c:\\users\\abirm\\envs\\acceptance_venv\\lib\\site-packages (from imbalanced-learn) (1.0.1)\n",
      "Requirement already satisfied: scikit-learn>=1.0.1 in c:\\users\\abirm\\envs\\acceptance_venv\\lib\\site-packages (from imbalanced-learn) (1.0.2)\n",
      "Requirement already satisfied: scipy>=1.1.0 in c:\\users\\abirm\\envs\\acceptance_venv\\lib\\site-packages (from imbalanced-learn) (1.8.0)\n",
      "Note: you may need to restart the kernel to use updated packages.\n",
      "Requirement already satisfied: fairlearn in c:\\users\\abirm\\envs\\acceptance_venv\\lib\\site-packages (0.7.0)\n",
      "Requirement already satisfied: scipy>=1.4.1 in c:\\users\\abirm\\envs\\acceptance_venv\\lib\\site-packages (from fairlearn) (1.8.0)\n",
      "Requirement already satisfied: pandas>=0.25.1 in c:\\users\\abirm\\envs\\acceptance_venv\\lib\\site-packages (from fairlearn) (1.4.2)\n",
      "Requirement already satisfied: scikit-learn>=0.22.1 in c:\\users\\abirm\\envs\\acceptance_venv\\lib\\site-packages (from fairlearn) (1.0.2)\n",
      "Requirement already satisfied: numpy>=1.17.2 in c:\\users\\abirm\\envs\\acceptance_venv\\lib\\site-packages (from fairlearn) (1.21.6)\n",
      "Requirement already satisfied: python-dateutil>=2.8.1 in c:\\users\\abirm\\envs\\acceptance_venv\\lib\\site-packages (from pandas>=0.25.1->fairlearn) (2.8.2)\n",
      "Requirement already satisfied: pytz>=2020.1 in c:\\users\\abirm\\envs\\acceptance_venv\\lib\\site-packages (from pandas>=0.25.1->fairlearn) (2022.1)\n",
      "Requirement already satisfied: joblib>=0.11 in c:\\users\\abirm\\envs\\acceptance_venv\\lib\\site-packages (from scikit-learn>=0.22.1->fairlearn) (1.0.1)\n",
      "Requirement already satisfied: threadpoolctl>=2.0.0 in c:\\users\\abirm\\envs\\acceptance_venv\\lib\\site-packages (from scikit-learn>=0.22.1->fairlearn) (3.1.0)\n",
      "Requirement already satisfied: six>=1.5 in c:\\users\\abirm\\envs\\acceptance_venv\\lib\\site-packages (from python-dateutil>=2.8.1->pandas>=0.25.1->fairlearn) (1.16.0)\n",
      "Note: you may need to restart the kernel to use updated packages.\n",
      "Requirement already satisfied: yellowbrick in c:\\users\\abirm\\envs\\acceptance_venv\\lib\\site-packages (1.4)\n",
      "Requirement already satisfied: scipy>=1.0.0 in c:\\users\\abirm\\envs\\acceptance_venv\\lib\\site-packages (from yellowbrick) (1.8.0)\n",
      "Requirement already satisfied: scikit-learn>=1.0.0 in c:\\users\\abirm\\envs\\acceptance_venv\\lib\\site-packages (from yellowbrick) (1.0.2)\n",
      "Requirement already satisfied: numpy>=1.16.0 in c:\\users\\abirm\\envs\\acceptance_venv\\lib\\site-packages (from yellowbrick) (1.21.6)\n",
      "Requirement already satisfied: cycler>=0.10.0 in c:\\users\\abirm\\envs\\acceptance_venv\\lib\\site-packages (from yellowbrick) (0.11.0)\n",
      "Requirement already satisfied: matplotlib!=3.0.0,>=2.0.2 in c:\\users\\abirm\\envs\\acceptance_venv\\lib\\site-packages (from yellowbrick) (3.5.1)\n",
      "Requirement already satisfied: pillow>=6.2.0 in c:\\users\\abirm\\envs\\acceptance_venv\\lib\\site-packages (from matplotlib!=3.0.0,>=2.0.2->yellowbrick) (9.1.0)\n",
      "Requirement already satisfied: pyparsing>=2.2.1 in c:\\users\\abirm\\envs\\acceptance_venv\\lib\\site-packages (from matplotlib!=3.0.0,>=2.0.2->yellowbrick) (3.0.7)\n",
      "Requirement already satisfied: packaging>=20.0 in c:\\users\\abirm\\envs\\acceptance_venv\\lib\\site-packages (from matplotlib!=3.0.0,>=2.0.2->yellowbrick) (21.3)\n",
      "Requirement already satisfied: kiwisolver>=1.0.1 in c:\\users\\abirm\\envs\\acceptance_venv\\lib\\site-packages (from matplotlib!=3.0.0,>=2.0.2->yellowbrick) (1.4.2)\n",
      "Requirement already satisfied: fonttools>=4.22.0 in c:\\users\\abirm\\envs\\acceptance_venv\\lib\\site-packages (from matplotlib!=3.0.0,>=2.0.2->yellowbrick) (4.32.0)\n",
      "Requirement already satisfied: python-dateutil>=2.7 in c:\\users\\abirm\\envs\\acceptance_venv\\lib\\site-packages (from matplotlib!=3.0.0,>=2.0.2->yellowbrick) (2.8.2)\n",
      "Requirement already satisfied: joblib>=0.11 in c:\\users\\abirm\\envs\\acceptance_venv\\lib\\site-packages (from scikit-learn>=1.0.0->yellowbrick) (1.0.1)\n",
      "Requirement already satisfied: threadpoolctl>=2.0.0 in c:\\users\\abirm\\envs\\acceptance_venv\\lib\\site-packages (from scikit-learn>=1.0.0->yellowbrick) (3.1.0)\n",
      "Requirement already satisfied: six>=1.5 in c:\\users\\abirm\\envs\\acceptance_venv\\lib\\site-packages (from python-dateutil>=2.7->matplotlib!=3.0.0,>=2.0.2->yellowbrick) (1.16.0)\n",
      "Note: you may need to restart the kernel to use updated packages.\n"
     ]
    }
   ],
   "source": [
    "%pip install -U imbalanced-learn\n",
    "%pip install fairlearn\n",
    "%pip install yellowbrick\n"
   ]
  },
  {
   "cell_type": "code",
   "execution_count": 2,
   "id": "31934363",
   "metadata": {},
   "outputs": [],
   "source": [
    "import pandas as pd\n",
    "import numpy as np\n",
    "import seaborn as sns\n",
    "import sklearn\n",
    "from sklearn.preprocessing import LabelEncoder\n",
    "from sklearn.preprocessing import OneHotEncoder\n",
    "from sklearn.multioutput import MultiOutputClassifier\n",
    "from sklearn.linear_model import LogisticRegression\n",
    "from sklearn.tree import DecisionTreeClassifier\n",
    "from sklearn.neighbors import KNeighborsClassifier\n",
    "from sklearn.naive_bayes import MultinomialNB\n",
    "from sklearn.feature_extraction.text import CountVectorizer, TfidfTransformer\n",
    "from sklearn.model_selection import train_test_split\n",
    "from sklearn.metrics import accuracy_score, classification_report, confusion_matrix, multilabel_confusion_matrix, precision_recall_fscore_support, plot_roc_curve, plot_confusion_matrix, plot_precision_recall_curve, plot_det_curve\n",
    "import matplotlib.pyplot as plt\n",
    "from yellowbrick.classifier import ROCAUC\n",
    "from sklego.metrics import p_percent_score\n",
    "from yellowbrick.classifier import ConfusionMatrix"
   ]
  },
  {
   "cell_type": "code",
   "execution_count": 3,
   "id": "fc27959e",
   "metadata": {},
   "outputs": [],
   "source": [
    "refugee = pd.read_csv('1milrefugee_accept_final_dataset.csv', index_col=0)"
   ]
  },
  {
   "cell_type": "code",
   "execution_count": 4,
   "id": "5516868b",
   "metadata": {},
   "outputs": [],
   "source": [
    "df = refugee.copy()"
   ]
  },
  {
   "cell_type": "code",
   "execution_count": 5,
   "id": "ea66888d",
   "metadata": {},
   "outputs": [
    {
     "data": {
      "text/html": [
       "<div>\n",
       "<style scoped>\n",
       "    .dataframe tbody tr th:only-of-type {\n",
       "        vertical-align: middle;\n",
       "    }\n",
       "\n",
       "    .dataframe tbody tr th {\n",
       "        vertical-align: top;\n",
       "    }\n",
       "\n",
       "    .dataframe thead th {\n",
       "        text-align: right;\n",
       "    }\n",
       "</style>\n",
       "<table border=\"1\" class=\"dataframe\">\n",
       "  <thead>\n",
       "    <tr style=\"text-align: right;\">\n",
       "      <th></th>\n",
       "      <th>language</th>\n",
       "      <th>education_level</th>\n",
       "      <th>last_occupation</th>\n",
       "      <th>qualified_for_unhcr_mandatory_contribution</th>\n",
       "    </tr>\n",
       "  </thead>\n",
       "  <tbody>\n",
       "    <tr>\n",
       "      <th>999995</th>\n",
       "      <td>Native + English</td>\n",
       "      <td>Undergrad</td>\n",
       "      <td>Junior DevOps Professional</td>\n",
       "      <td>accepted</td>\n",
       "    </tr>\n",
       "    <tr>\n",
       "      <th>999996</th>\n",
       "      <td>Native</td>\n",
       "      <td>Primary</td>\n",
       "      <td>Not employed</td>\n",
       "      <td>not accepted</td>\n",
       "    </tr>\n",
       "    <tr>\n",
       "      <th>999997</th>\n",
       "      <td>Native + English</td>\n",
       "      <td>No Education</td>\n",
       "      <td>Construction Worker</td>\n",
       "      <td>not accepted</td>\n",
       "    </tr>\n",
       "    <tr>\n",
       "      <th>999998</th>\n",
       "      <td>Native + English</td>\n",
       "      <td>Masters</td>\n",
       "      <td>Senior Administrative Assistant</td>\n",
       "      <td>not accepted</td>\n",
       "    </tr>\n",
       "    <tr>\n",
       "      <th>999999</th>\n",
       "      <td>Native + French</td>\n",
       "      <td>High School</td>\n",
       "      <td>Baker</td>\n",
       "      <td>not accepted</td>\n",
       "    </tr>\n",
       "  </tbody>\n",
       "</table>\n",
       "</div>"
      ],
      "text/plain": [
       "                language education_level                  last_occupation  \\\n",
       "999995  Native + English       Undergrad       Junior DevOps Professional   \n",
       "999996            Native         Primary                     Not employed   \n",
       "999997  Native + English    No Education              Construction Worker   \n",
       "999998  Native + English         Masters  Senior Administrative Assistant   \n",
       "999999   Native + French     High School                            Baker   \n",
       "\n",
       "       qualified_for_unhcr_mandatory_contribution  \n",
       "999995                                   accepted  \n",
       "999996                               not accepted  \n",
       "999997                               not accepted  \n",
       "999998                               not accepted  \n",
       "999999                               not accepted  "
      ]
     },
     "execution_count": 5,
     "metadata": {},
     "output_type": "execute_result"
    }
   ],
   "source": [
    "df.tail()"
   ]
  },
  {
   "cell_type": "code",
   "execution_count": 6,
   "id": "6610c402",
   "metadata": {},
   "outputs": [
    {
     "data": {
      "text/plain": [
       "not accepted    731932\n",
       "accepted        268068\n",
       "Name: qualified_for_unhcr_mandatory_contribution, dtype: int64"
      ]
     },
     "execution_count": 6,
     "metadata": {},
     "output_type": "execute_result"
    }
   ],
   "source": [
    "df['qualified_for_unhcr_mandatory_contribution'].value_counts()"
   ]
  },
  {
   "cell_type": "code",
   "execution_count": 7,
   "id": "c7fc6859",
   "metadata": {},
   "outputs": [],
   "source": [
    "#Divide the data based on their catageory\n",
    "target_variable = 'qualified_for_unhcr_mandatory_contribution'\n",
    "encode_variable = ['language', 'education_level', 'last_occupation']"
   ]
  },
  {
   "cell_type": "code",
   "execution_count": 8,
   "id": "ee394278",
   "metadata": {},
   "outputs": [],
   "source": [
    "#OneHotEncoding for the features\n",
    "for col in encode_variable:\n",
    "    dummy_data = pd.get_dummies(df[col], prefix=col)\n",
    "    df = pd.concat([df, dummy_data], axis=1)\n",
    "    del df[col]"
   ]
  },
  {
   "cell_type": "code",
   "execution_count": 9,
   "id": "950d6417",
   "metadata": {},
   "outputs": [],
   "source": [
    "#Label encoding for the feature to maintain the importance of the label values\n",
    "mapping_target = {'accepted':0, 'not accepted':1}\n",
    "def encoded_target(val):\n",
    "    return mapping_target[val]"
   ]
  },
  {
   "cell_type": "code",
   "execution_count": 10,
   "id": "dc908f79",
   "metadata": {},
   "outputs": [],
   "source": [
    "#Joining the two encoded datasets into one\n",
    "df['qualified_for_unhcr_mandatory_contribution'] = df['qualified_for_unhcr_mandatory_contribution'].apply(encoded_target)"
   ]
  },
  {
   "cell_type": "code",
   "execution_count": null,
   "id": "eb9dfa6c",
   "metadata": {},
   "outputs": [],
   "source": []
  },
  {
   "cell_type": "code",
   "execution_count": 11,
   "id": "80309ebd",
   "metadata": {},
   "outputs": [],
   "source": [
    "#Dividing the new datset into X(features) and y(target-label) \n",
    "X = df.drop('qualified_for_unhcr_mandatory_contribution', axis=1)\n",
    "y = df['qualified_for_unhcr_mandatory_contribution']"
   ]
  },
  {
   "cell_type": "code",
   "execution_count": 12,
   "id": "56f2348f",
   "metadata": {},
   "outputs": [
    {
     "data": {
      "text/plain": [
       "1    731932\n",
       "0    268068\n",
       "Name: qualified_for_unhcr_mandatory_contribution, dtype: int64"
      ]
     },
     "execution_count": 12,
     "metadata": {},
     "output_type": "execute_result"
    }
   ],
   "source": [
    "y.value_counts()"
   ]
  },
  {
   "cell_type": "code",
   "execution_count": 13,
   "id": "798ffc8d",
   "metadata": {},
   "outputs": [],
   "source": [
    "#Splitting the data before rescaling to reduce the chances of data leakage and overfitting\n",
    "X_train, X_test, y_train, y_test = train_test_split(X, y, test_size=0.2, random_state=42)"
   ]
  },
  {
   "cell_type": "code",
   "execution_count": 14,
   "id": "3400ce79",
   "metadata": {},
   "outputs": [
    {
     "data": {
      "image/png": "[encoded data removed]",
      "text/plain": [
       "<Figure size 576x396 with 1 Axes>"
      ]
     },
     "metadata": {},
     "output_type": "display_data"
    }
   ],
   "source": [
    "#Using random sampling instead of oversampling to reduce dataleakage, overfitting and duplicate data creation\n",
    "from imblearn.under_sampling import RandomUnderSampler\n",
    "\n",
    "#rus = RandomUnderSampler(sampling_strategy=1) # Numerical value\n",
    "rus = RandomUnderSampler(sampling_strategy=\"not minority\") # String\n",
    "X_train, y_train = rus.fit_resample(X_train, y_train)\n",
    "X_test, y_test = rus.fit_resample(X_test, y_test)\n",
    "\n",
    "ax1 = y_train.value_counts().plot.pie(autopct='%.2f')\n",
    "_1 = ax1.set_title(\"Under-sampling of y_train\")\n",
    "ax2 = y_test.value_counts().plot.pie(autopct='%.2f')\n",
    "_2 = ax2.set_title(\"Under-sampling of y_test\")"
   ]
  },
  {
   "cell_type": "code",
   "execution_count": 15,
   "id": "4306cc83",
   "metadata": {},
   "outputs": [],
   "source": [
    "from sklearn.preprocessing import StandardScaler\n",
    "sc = StandardScaler()\n",
    "X_train = sc.fit_transform(X_train)\n",
    "X_test = sc.transform(X_test)"
   ]
  },
  {
   "cell_type": "code",
   "execution_count": 16,
   "id": "952de519",
   "metadata": {},
   "outputs": [],
   "source": [
    "#Using robustscaler for outliers and also do the scaling after the split to prevent data lickage\n",
    "from sklearn.preprocessing import RobustScaler\n",
    "scaler = RobustScaler()\n",
    "scaler.fit(X_train)\n",
    "X_train = scaler.transform(X_train)\n",
    "X_test = scaler.transform(X_test)"
   ]
  },
  {
   "cell_type": "code",
   "execution_count": 17,
   "id": "3aa68b4a",
   "metadata": {},
   "outputs": [],
   "source": [
    "from sklearn.preprocessing import MinMaxScaler\n",
    "min_max=MinMaxScaler()\n",
    "min_max.fit(X_train)\n",
    "X_train = min_max.fit_transform(X_train)\n",
    "X_test = min_max.transform(X_test)"
   ]
  },
  {
   "cell_type": "code",
   "execution_count": 18,
   "id": "ae923416",
   "metadata": {},
   "outputs": [],
   "source": [
    "#Applying the PCA\n",
    "from sklearn.decomposition import PCA\n",
    "pca = PCA(n_components = 0.99)\n",
    "pca.fit(X_train)\n",
    "X_train = pca.transform(X_train)\n",
    "X_test = pca.transform(X_test)"
   ]
  },
  {
   "cell_type": "code",
   "execution_count": 19,
   "id": "1afaac77",
   "metadata": {},
   "outputs": [
    {
     "data": {
      "text/plain": [
       "0    53838\n",
       "1    53838\n",
       "Name: qualified_for_unhcr_mandatory_contribution, dtype: int64"
      ]
     },
     "execution_count": 19,
     "metadata": {},
     "output_type": "execute_result"
    }
   ],
   "source": [
    "y_test.value_counts()"
   ]
  },
  {
   "cell_type": "code",
   "execution_count": 20,
   "id": "8ebda3bd",
   "metadata": {},
   "outputs": [
    {
     "data": {
      "text/plain": [
       "71"
      ]
     },
     "execution_count": 20,
     "metadata": {},
     "output_type": "execute_result"
    }
   ],
   "source": [
    " #The number of PC used\n",
    " pca.n_components_ "
   ]
  },
  {
   "cell_type": "code",
   "execution_count": null,
   "id": "9294d7fd",
   "metadata": {},
   "outputs": [],
   "source": []
  },
  {
   "cell_type": "code",
   "execution_count": 21,
   "id": "be490fd0",
   "metadata": {},
   "outputs": [
    {
     "name": "stdout",
     "output_type": "stream",
     "text": [
      "Training Score\n",
      "- accuracy: 0.91212248517948\n",
      "- matthews cofficient: 0.8244078271029281\n",
      "Testing Score\n",
      "- accuracy: 0.911920948029273\n",
      "- matthews cofficient: 0.8239795330157318\n"
     ]
    },
    {
     "data": {
      "image/png": "[encoded data removed]",
      "text/plain": [
       "<Figure size 576x396 with 1 Axes>"
      ]
     },
     "metadata": {},
     "output_type": "display_data"
    },
    {
     "name": "stdout",
     "output_type": "stream",
     "text": [
      "              precision    recall  f1-score   support\n",
      "\n",
      "           0       0.92      0.90      0.91    214230\n",
      "           1       0.90      0.92      0.91    214230\n",
      "\n",
      "    accuracy                           0.91    428460\n",
      "   macro avg       0.91      0.91      0.91    428460\n",
      "weighted avg       0.91      0.91      0.91    428460\n",
      "\n",
      "              precision    recall  f1-score   support\n",
      "\n",
      "           0       0.92      0.90      0.91     53838\n",
      "           1       0.90      0.92      0.91     53838\n",
      "\n",
      "    accuracy                           0.91    107676\n",
      "   macro avg       0.91      0.91      0.91    107676\n",
      "weighted avg       0.91      0.91      0.91    107676\n",
      "\n"
     ]
    }
   ],
   "source": [
    "#Model1-RandomForestClassifier\n",
    "from sklearn.ensemble import RandomForestClassifier\n",
    "from yellowbrick.classifier import DiscriminationThreshold\n",
    "from sklearn.metrics import matthews_corrcoef\n",
    "#Making the model\n",
    "rf_c = RandomForestClassifier(n_estimators=2000, class_weight={0:1,1:3})\n",
    "#rf_c = RandomForestClassifier()\n",
    "rf_c.fit(X_train, y_train)\n",
    "\n",
    "#Predicting\n",
    "y_train_pred = rf_c.predict(X_train) \n",
    "y_test_pred = rf_c.predict(X_test)\n",
    "\n",
    "#Scoring\n",
    "rf_c_train_acu = accuracy_score(y_train,y_train_pred)\n",
    "rf_c_train_mcc = matthews_corrcoef(y_train, y_train_pred)\n",
    "\n",
    "rf_c_test_acu = accuracy_score(y_test,y_test_pred)\n",
    "rf_c_test_mcc = matthews_corrcoef(y_test, y_test_pred)\n",
    "\n",
    "print('Training Score')\n",
    "print('- accuracy: %s' % rf_c_train_acu)\n",
    "print('- matthews cofficient: %s' % rf_c_train_mcc)\n",
    "print('Testing Score')\n",
    "print('- accuracy: %s' % rf_c_test_acu)\n",
    "print('- matthews cofficient: %s' % rf_c_test_mcc)\n",
    "\n",
    "#Confusion Metrics\n",
    "rf_c_cm = ConfusionMatrix(\n",
    "    rf_c, classes = ['accepted', 'not accepted'])\n",
    "    \n",
    "\n",
    "\n",
    "rf_c_cm.fit(X_train, y_train)\n",
    "rf_c_cm.score(X_test, y_test)\n",
    "rf_c_cm.show()\n",
    "\n",
    "\n",
    "print(classification_report(y_train, y_train_pred))\n",
    "print(classification_report(y_test, y_test_pred))\n",
    "\n",
    "\n",
    "# Creating binary ROAUC visualization with the readable labels\n",
    "#visualizer = ROCAUC(rf_c, classes = ['accepted', 'not accepted'])\n",
    "                    \n",
    "\n",
    "                                        \n",
    "# Fitting to the training data first then scoring with the test data                                    \n",
    "#visualizer.fit(X_train, y_train)\n",
    "#visualizer.score(X_test, y_test)\n",
    "#visualizer.show()\n",
    "\n",
    "#DiscriminationThreshold\n",
    "#visualizer = DiscriminationThreshold(rf_c)\n",
    "\n",
    "# Fit and show the data using the visualizer\n",
    "#visualizer.fit(X_train, y_train)        \n",
    "#visualizer.show()           "
   ]
  },
  {
   "cell_type": "code",
   "execution_count": 22,
   "id": "bc97d008",
   "metadata": {},
   "outputs": [
    {
     "name": "stdout",
     "output_type": "stream",
     "text": [
      "Training Score\n",
      "- accuracy: 0.935797974139943\n",
      "- matthews cofficient: 0.8770554062666727\n",
      "Testing Score\n",
      "- accuracy: 0.9355195215275456\n",
      "- matthews cofficient: 0.8765230581850161\n"
     ]
    },
    {
     "data": {
      "image/png": "[encoded data removed]",
      "text/plain": [
       "<Figure size 576x396 with 1 Axes>"
      ]
     },
     "metadata": {},
     "output_type": "display_data"
    },
    {
     "name": "stdout",
     "output_type": "stream",
     "text": [
      "              precision    recall  f1-score   support\n",
      "\n",
      "           0       0.89      0.99      0.94    214230\n",
      "           1       0.99      0.88      0.93    214230\n",
      "\n",
      "    accuracy                           0.94    428460\n",
      "   macro avg       0.94      0.94      0.94    428460\n",
      "weighted avg       0.94      0.94      0.94    428460\n",
      "\n",
      "              precision    recall  f1-score   support\n",
      "\n",
      "           0       0.89      0.99      0.94     53838\n",
      "           1       0.99      0.88      0.93     53838\n",
      "\n",
      "    accuracy                           0.94    107676\n",
      "   macro avg       0.94      0.94      0.94    107676\n",
      "weighted avg       0.94      0.94      0.94    107676\n",
      "\n"
     ]
    }
   ],
   "source": [
    "#Model2- DecissionTree Classifier \n",
    "\n",
    "from sklearn.tree import DecisionTreeClassifier\n",
    "#Making the model\n",
    "#dt = DecisionTreeClassifier(max_depth=5)\n",
    "dt = DecisionTreeClassifier()\n",
    "dt.fit(X_train, y_train)\n",
    "\n",
    "#Predicting\n",
    "y_train_pred = dt.predict(X_train) \n",
    "y_test_pred = dt.predict(X_test)\n",
    "\n",
    "#Scoring\n",
    "dt_train_acu = accuracy_score(y_train,y_train_pred)\n",
    "dt_train_mcc = matthews_corrcoef(y_train, y_train_pred)\n",
    "\n",
    "dt_test_acu = accuracy_score(y_test,y_test_pred)\n",
    "dt_test_mcc = matthews_corrcoef(y_test, y_test_pred)\n",
    "\n",
    "print('Training Score')\n",
    "print('- accuracy: %s' % dt_train_acu)\n",
    "print('- matthews cofficient: %s' % dt_train_mcc)\n",
    "print('Testing Score')\n",
    "print('- accuracy: %s' % dt_test_acu)\n",
    "print('- matthews cofficient: %s' % dt_test_mcc)\n",
    "\n",
    "#Confusion Metrics\n",
    "dt_cm = ConfusionMatrix(\n",
    "    dt, classes = ['accepted', 'not accepted'])\n",
    "    \n",
    "\n",
    "\n",
    "dt_cm.fit(X_train, y_train)\n",
    "dt_cm.score(X_test, y_test)\n",
    "dt_cm.show()\n",
    "\n",
    "\n",
    "print(classification_report(y_train, y_train_pred))\n",
    "print(classification_report(y_test, y_test_pred))\n",
    "\n",
    "# Creating binary ROAUC visualization with the readable labels\n",
    "#visualizer = ROCAUC(dt, classes = ['accepted', 'not accepted'])\n",
    "                    \n",
    "\n",
    "                                        \n",
    "# Fitting to the training data first then scoring with the test data                                    \n",
    "#visualizer.fit(X_train, y_train)\n",
    "#visualizer.score(X_test, y_test)\n",
    "#visualizer.show()\n",
    "\n",
    "#DiscriminationThreshold\n",
    "#visualizer = DiscriminationThreshold(dt)\n",
    "\n",
    "# Fit and show the data using the visualizer\n",
    "#visualizer.fit(X_train, y_train)        \n",
    "#visualizer.show()       "
   ]
  },
  {
   "cell_type": "code",
   "execution_count": 23,
   "id": "c9c10331",
   "metadata": {},
   "outputs": [],
   "source": [
    "#Model3 - SupportVector Classifier\n",
    "\n",
    "#from sklearn.svm import SVC\n",
    "\n",
    "#Making the model\n",
    "#vm_rbf = SVC(gamma=2, C=1)\n",
    "#svm_rbf = SVC()\n",
    "#svm_rbf.fit(X_train, y_train)\n",
    "\n",
    "#Predicting\n",
    "#y_train_pred = svm_rbf.predict(X_train) \n",
    "#y_test_pred = svm_rbf.predict(X_test)\n",
    "\n",
    "#Scoring\n",
    "#svm_rbf_train_acu = accuracy_score(y_train,y_train_pred)\n",
    "#svm_rbf_train_mcc = matthews_corrcoef(y_train, y_train_pred)\n",
    "\n",
    "#svm_rbf_test_acu = accuracy_score(y_test,y_test_pred)\n",
    "#svm_rbf_test_mcc = matthews_corrcoef(y_test, y_test_pred)\n",
    "\n",
    "#print('Training Score')\n",
    "#print('- accuracy: %s' % svm_rbf_train_acu)\n",
    "#print('- matthews cofficient: %s' % svm_rbf_train_mcc)\n",
    "#print('Testing Score')\n",
    "#print('- accuracy: %s' % svm_rbf_test_acu)\n",
    "#print('- matthews cofficient: %s' % svm_rbf_test_mcc)\n",
    "\n",
    "#Confusion Metrics\n",
    "#svm_rbf_cm = ConfusionMatrix(\n",
    "#    svm_rbf, classes = ['accepted', 'not accepted'])\n",
    "    \n",
    "\n",
    "\n",
    "#svm_rbf_cm.fit(X_train, y_train)\n",
    "#svm_rbf_cm.score(X_test, y_test)\n",
    "#svm_rbf_cm.show()\n",
    "\n",
    "#print(classification_report(y_train, y_train_pred))\n",
    "#print(classification_report(y_test, y_test_pred))\n",
    "\n",
    "# Creating binary ROAUC visualization with the readable labels\n",
    "#visualizer = ROCAUC(svm_rbf, classes = ['accepted', 'not accepted']) #, binary=True\n",
    "\n",
    "                                        \n",
    "# Fitting to the training data first then scoring with the test data                                    \n",
    "#visualizer.fit(X_train, y_train)\n",
    "#visualizer.score(X_test, y_test)\n",
    "#visualizer.show()\n",
    "\n",
    "#DiscriminationThreshold\n",
    "#visualizer = DiscriminationThreshold(svm_rbf)\n",
    "\n",
    "# Fit and show the data using the visualizer\n",
    "#visualizer.fit(X_train, y_train)        \n",
    "#visualizer.show()       "
   ]
  },
  {
   "cell_type": "code",
   "execution_count": null,
   "id": "490667ef",
   "metadata": {},
   "outputs": [],
   "source": []
  },
  {
   "cell_type": "code",
   "execution_count": 24,
   "id": "782e0973",
   "metadata": {},
   "outputs": [
    {
     "name": "stdout",
     "output_type": "stream",
     "text": [
      "Training Score\n",
      "- matthews cofficient: 0.8776619881766162\n",
      "- accuracy: 0.8776619881766162\n",
      "Testing Score\n",
      "- matthews cofficient: 0.8712808766692208\n",
      "- accuracy: 0.8712808766692208\n"
     ]
    },
    {
     "data": {
      "image/png": "[encoded data removed]",
      "text/plain": [
       "<Figure size 576x396 with 1 Axes>"
      ]
     },
     "metadata": {},
     "output_type": "display_data"
    },
    {
     "name": "stdout",
     "output_type": "stream",
     "text": [
      "              precision    recall  f1-score   support\n",
      "\n",
      "           0       0.89      0.99      0.94    214230\n",
      "           1       0.99      0.88      0.93    214230\n",
      "\n",
      "    accuracy                           0.94    428460\n",
      "   macro avg       0.94      0.94      0.94    428460\n",
      "weighted avg       0.94      0.94      0.94    428460\n",
      "\n",
      "              precision    recall  f1-score   support\n",
      "\n",
      "           0       0.89      0.99      0.94     53838\n",
      "           1       0.99      0.88      0.93     53838\n",
      "\n",
      "    accuracy                           0.93    107676\n",
      "   macro avg       0.94      0.93      0.93    107676\n",
      "weighted avg       0.94      0.93      0.93    107676\n",
      "\n"
     ]
    }
   ],
   "source": [
    "from sklearn.neighbors import KNeighborsClassifier\n",
    "knn = KNeighborsClassifier(n_neighbors=10)\n",
    "knn.fit(X_train, y_train)\n",
    "#Predicting\n",
    "y_train_pred = knn.predict(X_train)\n",
    "y_test_pred = knn.predict(X_test)\n",
    "#Scoring\n",
    "knn_mcc_train = matthews_corrcoef(y_train, y_train_pred)\n",
    "knn_acc_train = accuracy_score(y_train,y_train_pred)\n",
    "\n",
    "knn_mcc_test = matthews_corrcoef(y_test, y_test_pred)\n",
    "knn_acc_test = accuracy_score(y_test,y_test_pred)\n",
    "\n",
    "print('Training Score')\n",
    "print('- matthews cofficient: %s' % knn_mcc_train)\n",
    "print('- accuracy: %s' % knn_mcc_train)\n",
    "print('Testing Score')\n",
    "print('- matthews cofficient: %s' % knn_mcc_test)\n",
    "print('- accuracy: %s' % knn_mcc_test)\n",
    "\n",
    "#Confusion Metrics\n",
    "knn_cm = ConfusionMatrix(\n",
    "    knn, classes = ['accepted', 'not accepted'])\n",
    "    \n",
    "\n",
    "\n",
    "knn_cm.fit(X_train, y_train)\n",
    "knn_cm.score(X_test, y_test)\n",
    "knn_cm.show()\n",
    "\n",
    "print(classification_report(y_train, y_train_pred))\n",
    "print(classification_report(y_test, y_test_pred))\n",
    "\n",
    "# Creating binary ROAUC visualization with the readable labels\n",
    "#visualizer = ROCAUC(knn, classes = ['accepted', 'not accepted'])\n",
    "                    \n",
    "\n",
    "                                        \n",
    "# Fitting to the training data first then scoring with the test data                                    \n",
    "#visualizer.fit(X_train, y_train)\n",
    "#visualizer.score(X_test, y_test)\n",
    "#visualizer.show()\n",
    "\n",
    "#DiscriminationThreshold\n",
    "#visualizer2 = DiscriminationThreshold(knn)\n",
    "\n",
    "# Fit and show the data using the visualizer\n",
    "#visualizer2.fit(X_train, y_train)        \n",
    "#visualizer2.show()       "
   ]
  },
  {
   "cell_type": "code",
   "execution_count": 25,
   "id": "517d8609",
   "metadata": {},
   "outputs": [
    {
     "name": "stdout",
     "output_type": "stream",
     "text": [
      "Training Score\n",
      "- accuracy: 0.9031601549736265\n",
      "- matthews cofficient: 0.806340340231165\n",
      "Testing Score\n",
      "- accuracy: 0.9040733311044243\n",
      "- matthews cofficient: 0.8081573589260037\n"
     ]
    },
    {
     "data": {
      "image/png": "[encoded data removed]",
      "text/plain": [
       "<Figure size 576x396 with 1 Axes>"
      ]
     },
     "metadata": {},
     "output_type": "display_data"
    },
    {
     "name": "stdout",
     "output_type": "stream",
     "text": [
      "              precision    recall  f1-score   support\n",
      "\n",
      "           0       0.91      0.90      0.90    214230\n",
      "           1       0.90      0.91      0.90    214230\n",
      "\n",
      "    accuracy                           0.90    428460\n",
      "   macro avg       0.90      0.90      0.90    428460\n",
      "weighted avg       0.90      0.90      0.90    428460\n",
      "\n",
      "              precision    recall  f1-score   support\n",
      "\n",
      "           0       0.91      0.90      0.90     53838\n",
      "           1       0.90      0.91      0.90     53838\n",
      "\n",
      "    accuracy                           0.90    107676\n",
      "   macro avg       0.90      0.90      0.90    107676\n",
      "weighted avg       0.90      0.90      0.90    107676\n",
      "\n"
     ]
    }
   ],
   "source": [
    "from sklearn.naive_bayes import GaussianNB\n",
    "\n",
    "#Making the model\n",
    "gnb = GaussianNB()\n",
    "gnb.fit(X_train, y_train)\n",
    "\n",
    "#Predicting\n",
    "y_train_pred = gnb.predict(X_train) \n",
    "y_test_pred = gnb.predict(X_test)\n",
    "\n",
    "#Scoring\n",
    "gnb_train_acu = accuracy_score(y_train,y_train_pred)\n",
    "gnb_train_mcc = matthews_corrcoef(y_train, y_train_pred)\n",
    "\n",
    "gnb_test_acu = accuracy_score(y_test,y_test_pred)\n",
    "gnb_test_mcc = matthews_corrcoef(y_test, y_test_pred)\n",
    "\n",
    "print('Training Score')\n",
    "print('- accuracy: %s' % gnb_train_acu)\n",
    "print('- matthews cofficient: %s' % gnb_train_mcc)\n",
    "print('Testing Score')\n",
    "print('- accuracy: %s' % gnb_test_acu)\n",
    "print('- matthews cofficient: %s' % gnb_test_mcc)\n",
    "\n",
    "#Confusion Metrics\n",
    "gnb_cm = ConfusionMatrix(\n",
    "    gnb, classes = ['accepted', 'not accepted'])\n",
    "    \n",
    "\n",
    "\n",
    "gnb_cm.fit(X_train, y_train)\n",
    "gnb_cm.score(X_test, y_test)\n",
    "gnb_cm.show()\n",
    "\n",
    "print(classification_report(y_train, y_train_pred))\n",
    "print(classification_report(y_test, y_test_pred))\n",
    "\n",
    "# Creating binary ROAUC visualization with the readable labels\n",
    "#visualizer = ROCAUC(gnb, classes = ['accepted', 'not accepted'])\n",
    "                    \n",
    "\n",
    "                                        \n",
    "# Fitting to the training data first then scoring with the test data                                    \n",
    "#visualizer.fit(X_train, y_train)\n",
    "#visualizer.score(X_test, y_test)\n",
    "#isualizer.show()\n",
    "\n",
    "#DiscriminationThreshold\n",
    "#visualizer = DiscriminationThreshold(gnb)\n",
    "\n",
    "# Fit and show the data using the visualizer\n",
    "#visualizer.fit(X_train, y_train)        \n",
    "#visualizer.show()  "
   ]
  },
  {
   "cell_type": "code",
   "execution_count": 26,
   "id": "2fbff337",
   "metadata": {},
   "outputs": [
    {
     "data": {
      "image/png": "[encoded data removed]",
      "text/plain": [
       "<Figure size 576x396 with 1 Axes>"
      ]
     },
     "metadata": {},
     "output_type": "display_data"
    },
    {
     "name": "stdout",
     "output_type": "stream",
     "text": [
      "              precision    recall  f1-score   support\n",
      "\n",
      "           0       0.88      1.00      0.94    214230\n",
      "           1       1.00      0.86      0.93    214230\n",
      "\n",
      "    accuracy                           0.93    428460\n",
      "   macro avg       0.94      0.93      0.93    428460\n",
      "weighted avg       0.94      0.93      0.93    428460\n",
      "\n",
      "              precision    recall  f1-score   support\n",
      "\n",
      "           0       0.88      1.00      0.94     53838\n",
      "           1       1.00      0.86      0.93     53838\n",
      "\n",
      "    accuracy                           0.93    107676\n",
      "   macro avg       0.94      0.93      0.93    107676\n",
      "weighted avg       0.94      0.93      0.93    107676\n",
      "\n"
     ]
    }
   ],
   "source": [
    "from sklearn.neural_network import MLPClassifier\n",
    "\n",
    "#Making the model\n",
    "mlp = MLPClassifier(alpha=1, max_iter=1000)\n",
    "#mlp = MLPClassifier()\n",
    "mlp.fit(X_train, y_train)\n",
    "\n",
    "#Predicting\n",
    "y_train_pred = mlp.predict(X_train) \n",
    "y_test_pred = mlp.predict(X_test)\n",
    "\n",
    "#Scoring\n",
    "mlp_train_acu = accuracy_score(y_train,y_train_pred)\n",
    "mlp_train_mcc = matthews_corrcoef(y_train, y_train_pred)\n",
    "\n",
    "mlp_test_acu = accuracy_score(y_test,y_test_pred)\n",
    "mlp_test_mcc = matthews_corrcoef(y_test, y_test_pred)\n",
    "\n",
    "#Confusion Metrics\n",
    "mlp_cm = ConfusionMatrix(\n",
    "    mlp, classes = ['accepted', 'not accepted'])\n",
    "    \n",
    "\n",
    "\n",
    "mlp_cm.fit(X_train, y_train)\n",
    "mlp_cm.score(X_test, y_test)\n",
    "mlp_cm.show()\n",
    "\n",
    "print(classification_report(y_train, y_train_pred))\n",
    "print(classification_report(y_test, y_test_pred))\n",
    "\n",
    "# Creating binary ROAUC visualization with the readable labels\n",
    "#visualizer = ROCAUC(mlp, classes = ['accepted', 'not accepted'])\n",
    "                    \n",
    "\n",
    "                                        \n",
    "# Fitting to the training data first then scoring with the test data                                    \n",
    "#visualizer.fit(X_train, y_train)\n",
    "#visualizer.score(X_test, y_test)\n",
    "#visualizer.show()\n",
    "\n",
    "#DiscriminationThreshold\n",
    "#visualizer = DiscriminationThreshold(mlp)\n",
    "\n",
    "# Fit and show the data using the visualizer\n",
    "#visualizer.fit(X_train, y_train)        \n",
    "#visualizer.show()  "
   ]
  },
  {
   "cell_type": "code",
   "execution_count": 27,
   "id": "9f454d32",
   "metadata": {},
   "outputs": [
    {
     "name": "stdout",
     "output_type": "stream",
     "text": [
      "Training Score\n",
      "- accuracy: 0.9342038930121832\n",
      "- matthews cofficient: 0.8716863487719478\n",
      "Testing Score\n",
      "- accuracy: 0.9345722352241911\n",
      "- matthews cofficient: 0.8725255278489777\n"
     ]
    },
    {
     "data": {
      "image/png": "[encoded data removed]",
      "text/plain": [
       "<Figure size 576x396 with 1 Axes>"
      ]
     },
     "metadata": {},
     "output_type": "display_data"
    },
    {
     "name": "stdout",
     "output_type": "stream",
     "text": [
      "              precision    recall  f1-score   support\n",
      "\n",
      "           0       0.90      0.98      0.94    214230\n",
      "           1       0.98      0.89      0.93    214230\n",
      "\n",
      "    accuracy                           0.93    428460\n",
      "   macro avg       0.94      0.93      0.93    428460\n",
      "weighted avg       0.94      0.93      0.93    428460\n",
      "\n",
      "              precision    recall  f1-score   support\n",
      "\n",
      "           0       0.90      0.98      0.94     53838\n",
      "           1       0.98      0.89      0.93     53838\n",
      "\n",
      "    accuracy                           0.93    107676\n",
      "   macro avg       0.94      0.93      0.93    107676\n",
      "weighted avg       0.94      0.93      0.93    107676\n",
      "\n"
     ]
    }
   ],
   "source": [
    "#The final stacked model\n",
    "\n",
    "from sklearn.ensemble import StackingClassifier\n",
    "from sklearn.linear_model import LogisticRegression\n",
    "\n",
    "estimators = [\n",
    "              #('svm_rbf',svm_rbf),\n",
    "              ('dt',dt),\n",
    "              ('rf_c',rf_c),\n",
    "]\n",
    "\n",
    "#Making the model\n",
    "stack_m = StackingClassifier(\n",
    "    estimators=estimators, final_estimator=LogisticRegression(max_iter=1000)\n",
    ")\n",
    "stack_m.fit(X_train, y_train)\n",
    "\n",
    "#Predicting\n",
    "y_train_pred = stack_m.predict(X_train) \n",
    "y_test_pred = stack_m.predict(X_test)\n",
    "\n",
    "#Scoring\n",
    "stack_m_train_acu = accuracy_score(y_train,y_train_pred)\n",
    "stack_m_train_mcc = matthews_corrcoef(y_train, y_train_pred)\n",
    "\n",
    "stack_m_test_acu = accuracy_score(y_test,y_test_pred)\n",
    "stack_m_test_mcc = matthews_corrcoef(y_test, y_test_pred)\n",
    "\n",
    "print('Training Score')\n",
    "print('- accuracy: %s' % stack_m_train_acu)\n",
    "print('- matthews cofficient: %s' % stack_m_train_mcc)\n",
    "print('Testing Score')\n",
    "print('- accuracy: %s' % stack_m_test_acu)\n",
    "print('- matthews cofficient: %s' % stack_m_test_mcc)\n",
    "\n",
    "#Confusion Metrics\n",
    "stack_m_cm = ConfusionMatrix(\n",
    "    stack_m, classes = ['accepted', 'not accepted'])\n",
    "    \n",
    "\n",
    "\n",
    "stack_m_cm.fit(X_train, y_train)\n",
    "stack_m_cm.score(X_test, y_test)\n",
    "stack_m_cm.show()\n",
    "\n",
    "print(classification_report(y_train, y_train_pred))\n",
    "print(classification_report(y_test, y_test_pred))\n",
    "\n",
    "# Creating binary ROAUC visualization with the readable labels\n",
    "#visualizer = ROCAUC(stack_m, classes = ['accepted', 'not accepted'])\n",
    "                    \n",
    "\n",
    "                                        \n",
    "# Fitting to the training data first then scoring with the test data                                    \n",
    "#visualizer.fit(X_train, y_train)\n",
    "#visualizer.score(X_test, y_test)\n",
    "#visualizer.show()\n",
    "\n",
    "#DiscriminationThreshold\n",
    "#visualizer = DiscriminationThreshold(stack_m)\n",
    "\n",
    "# Fit and show the data using the visualizer\n",
    "#visualizer.fit(X_train, y_train)        \n",
    "#visualizer.show()  "
   ]
  },
  {
   "cell_type": "code",
   "execution_count": null,
   "id": "ec27bd84",
   "metadata": {},
   "outputs": [],
   "source": []
  },
  {
   "cell_type": "code",
   "execution_count": null,
   "id": "00fd46cc",
   "metadata": {},
   "outputs": [],
   "source": []
  },
  {
   "cell_type": "code",
   "execution_count": null,
   "id": "722051bf",
   "metadata": {},
   "outputs": [],
   "source": []
  },
  {
   "cell_type": "code",
   "execution_count": null,
   "id": "e048736a",
   "metadata": {},
   "outputs": [],
   "source": []
  },
  {
   "cell_type": "code",
   "execution_count": null,
   "id": "873d8755",
   "metadata": {},
   "outputs": [],
   "source": []
  },
  {
   "cell_type": "code",
   "execution_count": null,
   "id": "1b12457e",
   "metadata": {},
   "outputs": [],
   "source": []
  },
  {
   "cell_type": "code",
   "execution_count": null,
   "id": "523e2ee9",
   "metadata": {},
   "outputs": [],
   "source": [
    "\n"
   ]
  },
  {
   "cell_type": "code",
   "execution_count": null,
   "id": "821d34bd",
   "metadata": {},
   "outputs": [],
   "source": []
  },
  {
   "cell_type": "code",
   "execution_count": null,
   "id": "63ee085a",
   "metadata": {},
   "outputs": [],
   "source": []
  },
  {
   "cell_type": "code",
   "execution_count": 28,
   "id": "af9de72f",
   "metadata": {},
   "outputs": [],
   "source": [
    "#import joblib\n",
    "#range_model = \"range_main_model.pkl\"\n",
    "#joblib.dump(model_name, range_model)"
   ]
  }
 ],
 "metadata": {
  "kernelspec": {
   "display_name": "Python 3 (ipykernel)",
   "language": "python",
   "name": "python3"
  },
  "language_info": {
   "codemirror_mode": {
    "name": "ipython",
    "version": 3
   },
   "file_extension": ".py",
   "mimetype": "text/x-python",
   "name": "python",
   "nbconvert_exporter": "python",
   "pygments_lexer": "ipython3",
   "version": "3.10.4"
  }
 },
 "nbformat": 4,
 "nbformat_minor": 5
}
