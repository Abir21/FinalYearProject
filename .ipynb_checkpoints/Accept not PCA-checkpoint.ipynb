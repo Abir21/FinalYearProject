{
 "cells": [
  {
   "cell_type": "code",
   "execution_count": 53,
   "id": "893571b4",
   "metadata": {},
   "outputs": [
    {
     "name": "stdout",
     "output_type": "stream",
     "text": [
      "Requirement already satisfied: imbalanced-learn in c:\\users\\abirm\\envs\\acceptance_venv\\lib\\site-packages (0.9.0)\n",
      "Requirement already satisfied: threadpoolctl>=2.0.0 in c:\\users\\abirm\\envs\\acceptance_venv\\lib\\site-packages (from imbalanced-learn) (3.1.0)\n",
      "Requirement already satisfied: scikit-learn>=1.0.1 in c:\\users\\abirm\\envs\\acceptance_venv\\lib\\site-packages (from imbalanced-learn) (1.0.2)\n",
      "Requirement already satisfied: joblib>=0.11 in c:\\users\\abirm\\envs\\acceptance_venv\\lib\\site-packages (from imbalanced-learn) (1.0.1)\n",
      "Requirement already satisfied: scipy>=1.1.0 in c:\\users\\abirm\\envs\\acceptance_venv\\lib\\site-packages (from imbalanced-learn) (1.8.0)\n",
      "Requirement already satisfied: numpy>=1.14.6 in c:\\users\\abirm\\envs\\acceptance_venv\\lib\\site-packages (from imbalanced-learn) (1.21.6)\n",
      "Note: you may need to restart the kernel to use updated packages.\n",
      "Requirement already satisfied: fairlearn in c:\\users\\abirm\\envs\\acceptance_venv\\lib\\site-packages (0.7.0)\n",
      "Requirement already satisfied: scikit-learn>=0.22.1 in c:\\users\\abirm\\envs\\acceptance_venv\\lib\\site-packages (from fairlearn) (1.0.2)\n",
      "Requirement already satisfied: pandas>=0.25.1 in c:\\users\\abirm\\envs\\acceptance_venv\\lib\\site-packages (from fairlearn) (1.4.2)\n",
      "Requirement already satisfied: scipy>=1.4.1 in c:\\users\\abirm\\envs\\acceptance_venv\\lib\\site-packages (from fairlearn) (1.8.0)\n",
      "Requirement already satisfied: numpy>=1.17.2 in c:\\users\\abirm\\envs\\acceptance_venv\\lib\\site-packages (from fairlearn) (1.21.6)\n",
      "Requirement already satisfied: python-dateutil>=2.8.1 in c:\\users\\abirm\\envs\\acceptance_venv\\lib\\site-packages (from pandas>=0.25.1->fairlearn) (2.8.2)\n",
      "Requirement already satisfied: pytz>=2020.1 in c:\\users\\abirm\\envs\\acceptance_venv\\lib\\site-packages (from pandas>=0.25.1->fairlearn) (2022.1)\n",
      "Requirement already satisfied: threadpoolctl>=2.0.0 in c:\\users\\abirm\\envs\\acceptance_venv\\lib\\site-packages (from scikit-learn>=0.22.1->fairlearn) (3.1.0)\n",
      "Requirement already satisfied: joblib>=0.11 in c:\\users\\abirm\\envs\\acceptance_venv\\lib\\site-packages (from scikit-learn>=0.22.1->fairlearn) (1.0.1)\n",
      "Requirement already satisfied: six>=1.5 in c:\\users\\abirm\\envs\\acceptance_venv\\lib\\site-packages (from python-dateutil>=2.8.1->pandas>=0.25.1->fairlearn) (1.16.0)\n",
      "Note: you may need to restart the kernel to use updated packages.\n",
      "Requirement already satisfied: yellowbrick in c:\\users\\abirm\\envs\\acceptance_venv\\lib\\site-packages (1.4)\n",
      "Requirement already satisfied: numpy>=1.16.0 in c:\\users\\abirm\\envs\\acceptance_venv\\lib\\site-packages (from yellowbrick) (1.21.6)\n",
      "Requirement already satisfied: matplotlib!=3.0.0,>=2.0.2 in c:\\users\\abirm\\envs\\acceptance_venv\\lib\\site-packages (from yellowbrick) (3.5.1)\n",
      "Requirement already satisfied: scipy>=1.0.0 in c:\\users\\abirm\\envs\\acceptance_venv\\lib\\site-packages (from yellowbrick) (1.8.0)\n",
      "Requirement already satisfied: scikit-learn>=1.0.0 in c:\\users\\abirm\\envs\\acceptance_venv\\lib\\site-packages (from yellowbrick) (1.0.2)\n",
      "Requirement already satisfied: cycler>=0.10.0 in c:\\users\\abirm\\envs\\acceptance_venv\\lib\\site-packages (from yellowbrick) (0.11.0)\n",
      "Requirement already satisfied: pyparsing>=2.2.1 in c:\\users\\abirm\\envs\\acceptance_venv\\lib\\site-packages (from matplotlib!=3.0.0,>=2.0.2->yellowbrick) (3.0.7)\n",
      "Requirement already satisfied: packaging>=20.0 in c:\\users\\abirm\\envs\\acceptance_venv\\lib\\site-packages (from matplotlib!=3.0.0,>=2.0.2->yellowbrick) (21.3)\n",
      "Requirement already satisfied: fonttools>=4.22.0 in c:\\users\\abirm\\envs\\acceptance_venv\\lib\\site-packages (from matplotlib!=3.0.0,>=2.0.2->yellowbrick) (4.32.0)\n",
      "Requirement already satisfied: pillow>=6.2.0 in c:\\users\\abirm\\envs\\acceptance_venv\\lib\\site-packages (from matplotlib!=3.0.0,>=2.0.2->yellowbrick) (9.1.0)\n",
      "Requirement already satisfied: python-dateutil>=2.7 in c:\\users\\abirm\\envs\\acceptance_venv\\lib\\site-packages (from matplotlib!=3.0.0,>=2.0.2->yellowbrick) (2.8.2)\n",
      "Requirement already satisfied: kiwisolver>=1.0.1 in c:\\users\\abirm\\envs\\acceptance_venv\\lib\\site-packages (from matplotlib!=3.0.0,>=2.0.2->yellowbrick) (1.4.2)\n",
      "Requirement already satisfied: joblib>=0.11 in c:\\users\\abirm\\envs\\acceptance_venv\\lib\\site-packages (from scikit-learn>=1.0.0->yellowbrick) (1.0.1)\n",
      "Requirement already satisfied: threadpoolctl>=2.0.0 in c:\\users\\abirm\\envs\\acceptance_venv\\lib\\site-packages (from scikit-learn>=1.0.0->yellowbrick) (3.1.0)\n",
      "Requirement already satisfied: six>=1.5 in c:\\users\\abirm\\envs\\acceptance_venv\\lib\\site-packages (from python-dateutil>=2.7->matplotlib!=3.0.0,>=2.0.2->yellowbrick) (1.16.0)\n",
      "Note: you may need to restart the kernel to use updated packages.\n",
      "Requirement already satisfied: dython in c:\\users\\abirm\\envs\\acceptance_venv\\lib\\site-packages (0.7.1.post3)\n",
      "Requirement already satisfied: pandas>=1.3.2 in c:\\users\\abirm\\envs\\acceptance_venv\\lib\\site-packages (from dython) (1.4.2)\n",
      "Requirement already satisfied: seaborn>=0.11.0 in c:\\users\\abirm\\envs\\acceptance_venv\\lib\\site-packages (from dython) (0.11.2)\n",
      "Requirement already satisfied: matplotlib>=3.4.3 in c:\\users\\abirm\\envs\\acceptance_venv\\lib\\site-packages (from dython) (3.5.1)\n",
      "Requirement already satisfied: scikit-learn>=0.24.2 in c:\\users\\abirm\\envs\\acceptance_venv\\lib\\site-packages (from dython) (1.0.2)\n",
      "Requirement already satisfied: numpy>=1.19.5 in c:\\users\\abirm\\envs\\acceptance_venv\\lib\\site-packages (from dython) (1.21.6)\n",
      "Requirement already satisfied: scikit-plot>=0.3.7 in c:\\users\\abirm\\envs\\acceptance_venv\\lib\\site-packages (from dython) (0.3.7)\n",
      "Requirement already satisfied: scipy>=1.7.1 in c:\\users\\abirm\\envs\\acceptance_venv\\lib\\site-packages (from dython) (1.8.0)\n",
      "Requirement already satisfied: pillow>=6.2.0 in c:\\users\\abirm\\envs\\acceptance_venv\\lib\\site-packages (from matplotlib>=3.4.3->dython) (9.1.0)\n",
      "Requirement already satisfied: packaging>=20.0 in c:\\users\\abirm\\envs\\acceptance_venv\\lib\\site-packages (from matplotlib>=3.4.3->dython) (21.3)\n",
      "Requirement already satisfied: cycler>=0.10 in c:\\users\\abirm\\envs\\acceptance_venv\\lib\\site-packages (from matplotlib>=3.4.3->dython) (0.11.0)\n",
      "Requirement already satisfied: pyparsing>=2.2.1 in c:\\users\\abirm\\envs\\acceptance_venv\\lib\\site-packages (from matplotlib>=3.4.3->dython) (3.0.7)\n",
      "Requirement already satisfied: python-dateutil>=2.7 in c:\\users\\abirm\\envs\\acceptance_venv\\lib\\site-packages (from matplotlib>=3.4.3->dython) (2.8.2)\n",
      "Requirement already satisfied: fonttools>=4.22.0 in c:\\users\\abirm\\envs\\acceptance_venv\\lib\\site-packages (from matplotlib>=3.4.3->dython) (4.32.0)\n",
      "Requirement already satisfied: kiwisolver>=1.0.1 in c:\\users\\abirm\\envs\\acceptance_venv\\lib\\site-packages (from matplotlib>=3.4.3->dython) (1.4.2)\n",
      "Requirement already satisfied: pytz>=2020.1 in c:\\users\\abirm\\envs\\acceptance_venv\\lib\\site-packages (from pandas>=1.3.2->dython) (2022.1)\n",
      "Requirement already satisfied: threadpoolctl>=2.0.0 in c:\\users\\abirm\\envs\\acceptance_venv\\lib\\site-packages (from scikit-learn>=0.24.2->dython) (3.1.0)\n",
      "Requirement already satisfied: joblib>=0.11 in c:\\users\\abirm\\envs\\acceptance_venv\\lib\\site-packages (from scikit-learn>=0.24.2->dython) (1.0.1)\n",
      "Requirement already satisfied: six>=1.5 in c:\\users\\abirm\\envs\\acceptance_venv\\lib\\site-packages (from python-dateutil>=2.7->matplotlib>=3.4.3->dython) (1.16.0)\n",
      "Note: you may need to restart the kernel to use updated packages.\n"
     ]
    }
   ],
   "source": [
    "%pip install -U imbalanced-learn\n",
    "%pip install fairlearn\n",
    "%pip install yellowbrick\n",
    "%pip install dython"
   ]
  },
  {
   "cell_type": "code",
   "execution_count": 2,
   "id": "62cc1f7b",
   "metadata": {},
   "outputs": [],
   "source": [
    "import pandas as pd\n",
    "import numpy as np\n",
    "import seaborn as sns\n",
    "import sklearn\n",
    "from sklearn.preprocessing import LabelEncoder\n",
    "from sklearn.preprocessing import OneHotEncoder\n",
    "from sklearn.multioutput import MultiOutputClassifier\n",
    "from sklearn.linear_model import LogisticRegression\n",
    "from sklearn.tree import DecisionTreeClassifier\n",
    "from sklearn.neighbors import KNeighborsClassifier\n",
    "from sklearn.naive_bayes import MultinomialNB\n",
    "from sklearn.feature_extraction.text import CountVectorizer, TfidfTransformer\n",
    "from sklearn.model_selection import train_test_split\n",
    "from sklearn.metrics import accuracy_score, classification_report, confusion_matrix, multilabel_confusion_matrix, precision_recall_fscore_support, plot_roc_curve, plot_confusion_matrix, plot_precision_recall_curve, plot_det_curve\n",
    "import matplotlib.pyplot as plt\n",
    "from yellowbrick.classifier import ROCAUC\n",
    "from sklego.metrics import p_percent_score\n",
    "from yellowbrick.classifier import ConfusionMatrix"
   ]
  },
  {
   "cell_type": "code",
   "execution_count": 57,
   "id": "26d173fd",
   "metadata": {},
   "outputs": [],
   "source": [
    "refugee = pd.read_csv('1milrefugee_accept_final_dataset.csv', index_col=0)"
   ]
  },
  {
   "cell_type": "code",
   "execution_count": 58,
   "id": "7b39495d",
   "metadata": {},
   "outputs": [],
   "source": [
    "df = refugee.copy()"
   ]
  },
  {
   "cell_type": "code",
   "execution_count": 59,
   "id": "2b5e8ce7",
   "metadata": {
    "scrolled": true
   },
   "outputs": [
    {
     "data": {
      "text/html": [
       "<div>\n",
       "<style scoped>\n",
       "    .dataframe tbody tr th:only-of-type {\n",
       "        vertical-align: middle;\n",
       "    }\n",
       "\n",
       "    .dataframe tbody tr th {\n",
       "        vertical-align: top;\n",
       "    }\n",
       "\n",
       "    .dataframe thead th {\n",
       "        text-align: right;\n",
       "    }\n",
       "</style>\n",
       "<table border=\"1\" class=\"dataframe\">\n",
       "  <thead>\n",
       "    <tr style=\"text-align: right;\">\n",
       "      <th></th>\n",
       "      <th>language</th>\n",
       "      <th>education_level</th>\n",
       "      <th>last_occupation</th>\n",
       "      <th>qualified_for_unhcr_mandatory_contribution</th>\n",
       "    </tr>\n",
       "  </thead>\n",
       "  <tbody>\n",
       "    <tr>\n",
       "      <th>999995</th>\n",
       "      <td>Native + English</td>\n",
       "      <td>Undergrad</td>\n",
       "      <td>Junior DevOps Professional</td>\n",
       "      <td>accepted</td>\n",
       "    </tr>\n",
       "    <tr>\n",
       "      <th>999996</th>\n",
       "      <td>Native</td>\n",
       "      <td>Primary</td>\n",
       "      <td>Not employed</td>\n",
       "      <td>not accepted</td>\n",
       "    </tr>\n",
       "    <tr>\n",
       "      <th>999997</th>\n",
       "      <td>Native + English</td>\n",
       "      <td>No Education</td>\n",
       "      <td>Construction Worker</td>\n",
       "      <td>not accepted</td>\n",
       "    </tr>\n",
       "    <tr>\n",
       "      <th>999998</th>\n",
       "      <td>Native + English</td>\n",
       "      <td>Masters</td>\n",
       "      <td>Senior Administrative Assistant</td>\n",
       "      <td>not accepted</td>\n",
       "    </tr>\n",
       "    <tr>\n",
       "      <th>999999</th>\n",
       "      <td>Native + French</td>\n",
       "      <td>High School</td>\n",
       "      <td>Baker</td>\n",
       "      <td>not accepted</td>\n",
       "    </tr>\n",
       "  </tbody>\n",
       "</table>\n",
       "</div>"
      ],
      "text/plain": [
       "                language education_level                  last_occupation  \\\n",
       "999995  Native + English       Undergrad       Junior DevOps Professional   \n",
       "999996            Native         Primary                     Not employed   \n",
       "999997  Native + English    No Education              Construction Worker   \n",
       "999998  Native + English         Masters  Senior Administrative Assistant   \n",
       "999999   Native + French     High School                            Baker   \n",
       "\n",
       "       qualified_for_unhcr_mandatory_contribution  \n",
       "999995                                   accepted  \n",
       "999996                               not accepted  \n",
       "999997                               not accepted  \n",
       "999998                               not accepted  \n",
       "999999                               not accepted  "
      ]
     },
     "execution_count": 59,
     "metadata": {},
     "output_type": "execute_result"
    }
   ],
   "source": [
    "df.tail()"
   ]
  },
  {
   "cell_type": "code",
   "execution_count": null,
   "id": "6933be8a",
   "metadata": {},
   "outputs": [],
   "source": []
  },
  {
   "cell_type": "code",
   "execution_count": 60,
   "id": "c618927c",
   "metadata": {},
   "outputs": [
    {
     "data": {
      "text/plain": [
       "not accepted    731932\n",
       "accepted        268068\n",
       "Name: qualified_for_unhcr_mandatory_contribution, dtype: int64"
      ]
     },
     "execution_count": 60,
     "metadata": {},
     "output_type": "execute_result"
    }
   ],
   "source": [
    "df['qualified_for_unhcr_mandatory_contribution'].value_counts()"
   ]
  },
  {
   "cell_type": "code",
   "execution_count": 64,
   "id": "79b57234",
   "metadata": {},
   "outputs": [
    {
     "data": {
      "text/plain": [
       "['language',\n",
       " 'education_level',\n",
       " 'last_occupation',\n",
       " 'qualified_for_unhcr_mandatory_contribution']"
      ]
     },
     "execution_count": 64,
     "metadata": {},
     "output_type": "execute_result"
    }
   ],
   "source": [
    "#Measure of association\n",
    "from dython.nominal import associations\n",
    "from dython.nominal import identify_nominal_columns\n",
    "categorical_features=identify_nominal_columns(df)\n",
    "categorical_features"
   ]
  },
  {
   "cell_type": "code",
   "execution_count": null,
   "id": "be9fc272",
   "metadata": {},
   "outputs": [],
   "source": [
    "associations(df, nom_nom_assoc='theil', figsize=(12, 12))"
   ]
  },
  {
   "cell_type": "code",
   "execution_count": 7,
   "id": "8f15bb93",
   "metadata": {},
   "outputs": [],
   "source": [
    "#Divide the data based on their catageory\n",
    "target_variable = 'qualified_for_unhcr_mandatory_contribution'\n",
    "encode_variable = ['language', 'education_level', 'last_occupation']"
   ]
  },
  {
   "cell_type": "code",
   "execution_count": 8,
   "id": "004de839",
   "metadata": {},
   "outputs": [],
   "source": [
    "#OneHotEncoding for the features\n",
    "for col in encode_variable:\n",
    "    dummy_data = pd.get_dummies(df[col], prefix=col)\n",
    "    df = pd.concat([df, dummy_data], axis=1)\n",
    "    del df[col]"
   ]
  },
  {
   "cell_type": "code",
   "execution_count": 9,
   "id": "53644077",
   "metadata": {},
   "outputs": [],
   "source": [
    "#Label encoding for the feature to maintain the importance of the label values\n",
    "mapping_target = {'not accepted':0, 'accepted':1}\n",
    "def encoded_target(val):\n",
    "    return mapping_target[val]"
   ]
  },
  {
   "cell_type": "code",
   "execution_count": 10,
   "id": "b51f8880",
   "metadata": {},
   "outputs": [],
   "source": [
    "#Joining the two encoded datasets into one\n",
    "df['qualified_for_unhcr_mandatory_contribution'] = df['qualified_for_unhcr_mandatory_contribution'].apply(encoded_target)"
   ]
  },
  {
   "cell_type": "code",
   "execution_count": 11,
   "id": "b13d6646",
   "metadata": {},
   "outputs": [],
   "source": [
    "#Dividing the new datset into X(features) and y(target-label) \n",
    "X = df.drop('qualified_for_unhcr_mandatory_contribution', axis=1)\n",
    "y = df['qualified_for_unhcr_mandatory_contribution']"
   ]
  },
  {
   "cell_type": "code",
   "execution_count": 12,
   "id": "b9540676",
   "metadata": {},
   "outputs": [
    {
     "data": {
      "text/plain": [
       "0    731932\n",
       "1    268068\n",
       "Name: qualified_for_unhcr_mandatory_contribution, dtype: int64"
      ]
     },
     "execution_count": 12,
     "metadata": {},
     "output_type": "execute_result"
    }
   ],
   "source": [
    "y.value_counts()"
   ]
  },
  {
   "cell_type": "code",
   "execution_count": 13,
   "id": "9f7249e7",
   "metadata": {},
   "outputs": [],
   "source": [
    "#Splitting the data before rescaling to reduce the chances of data leakage and overfitting\n",
    "X_train, X_test, y_train, y_test = train_test_split(X, y, test_size=0.2, random_state=42)"
   ]
  },
  {
   "cell_type": "code",
   "execution_count": null,
   "id": "10f78b0d",
   "metadata": {},
   "outputs": [],
   "source": []
  },
  {
   "cell_type": "code",
   "execution_count": 56,
   "id": "f9c5cea6",
   "metadata": {},
   "outputs": [],
   "source": [
    "#Feature Selection\n",
    "#Using Pearson Corelation Metrics\n",
    "#plt.figure(figsize=(20,15))\n",
    "#corel = X_train.corr().round(2)\n",
    "#mask = np.triu(np.ones_like(corel, dtype=bool))\n",
    "#sns.heatmap(corel, annot=True, vmax=1, vmin=-1, center=3, cmap='vlag', mask=mask) #, cmap=plt.cm.CMRmap_r\n",
    "#plt.show()\n"
   ]
  },
  {
   "cell_type": "code",
   "execution_count": 14,
   "id": "f09e3201",
   "metadata": {},
   "outputs": [
    {
     "data": {
      "image/png": "[encoded data removed]",
      "text/plain": [
       "<Figure size 576x396 with 1 Axes>"
      ]
     },
     "metadata": {},
     "output_type": "display_data"
    }
   ],
   "source": [
    "#Using random sampling instead of oversampling to reduce dataleakage, overfitting and duplicate data creation\n",
    "from imblearn.under_sampling import RandomUnderSampler\n",
    "\n",
    "#rus = RandomUnderSampler(sampling_strategy=1) # Numerical value\n",
    "rus = RandomUnderSampler(sampling_strategy=\"not minority\") # String\n",
    "X_train_us, y_train_us = rus.fit_resample(X_train, y_train)\n",
    "X_test_us, y_test_us = rus.fit_resample(X_test, y_test)\n",
    "\n",
    "ax1 = y_train_us.value_counts().plot.pie(autopct='%.2f')\n",
    "_1 = ax1.set_title(\"Under-sampling of y_train\")\n",
    "ax2 = y_test_us.value_counts().plot.pie(autopct='%.2f')\n",
    "_2 = ax2.set_title(\"Under-sampling of y_test\")"
   ]
  },
  {
   "cell_type": "code",
   "execution_count": 15,
   "id": "87b42e0c",
   "metadata": {},
   "outputs": [],
   "source": [
    "from sklearn.preprocessing import MinMaxScaler\n",
    "min_max=MinMaxScaler()\n",
    "min_max.fit(X_train_us)\n",
    "X_train_m = min_max.fit_transform(X_train_us)\n",
    "X_test_m = min_max.transform(X_test_us)"
   ]
  },
  {
   "cell_type": "code",
   "execution_count": 16,
   "id": "85593d04",
   "metadata": {},
   "outputs": [],
   "source": [
    "#Using robustscaler for outliers and also do the scaling after the split to prevent data lickage\n",
    "#The output is labeled as _p from previous syntex\n",
    "from sklearn.preprocessing import RobustScaler\n",
    "scaler = RobustScaler()\n",
    "scaler.fit(X_train_m)\n",
    "X_train_p = scaler.transform(X_train_m)\n",
    "X_test_p = scaler.transform(X_test_m)"
   ]
  },
  {
   "cell_type": "code",
   "execution_count": 17,
   "id": "53202e5d",
   "metadata": {},
   "outputs": [
    {
     "data": {
      "text/plain": [
       "0    53838\n",
       "1    53838\n",
       "Name: qualified_for_unhcr_mandatory_contribution, dtype: int64"
      ]
     },
     "execution_count": 17,
     "metadata": {},
     "output_type": "execute_result"
    }
   ],
   "source": [
    "y_test_us.value_counts()"
   ]
  },
  {
   "cell_type": "code",
   "execution_count": 39,
   "id": "aaa977ac",
   "metadata": {},
   "outputs": [
    {
     "name": "stdout",
     "output_type": "stream",
     "text": [
      "Training Score\n",
      "- accuracy: 0.91894926014097\n",
      "- matthews cofficient: 0.8379313722245014\n",
      "Testing Score\n",
      "- accuracy: 0.9194342286117612\n",
      "- matthews cofficient: 0.8389030615677066\n"
     ]
    },
    {
     "data": {
      "image/png": "[encoded data removed]",
      "text/plain": [
       "<Figure size 576x396 with 1 Axes>"
      ]
     },
     "metadata": {},
     "output_type": "display_data"
    },
    {
     "name": "stdout",
     "output_type": "stream",
     "text": [
      "              precision    recall  f1-score   support\n",
      "\n",
      "           0       0.92      0.91      0.92    214230\n",
      "           1       0.92      0.92      0.92    214230\n",
      "\n",
      "    accuracy                           0.92    428460\n",
      "   macro avg       0.92      0.92      0.92    428460\n",
      "weighted avg       0.92      0.92      0.92    428460\n",
      "\n",
      "              precision    recall  f1-score   support\n",
      "\n",
      "           0       0.92      0.91      0.92     53838\n",
      "           1       0.92      0.92      0.92     53838\n",
      "\n",
      "    accuracy                           0.92    107676\n",
      "   macro avg       0.92      0.92      0.92    107676\n",
      "weighted avg       0.92      0.92      0.92    107676\n",
      "\n"
     ]
    }
   ],
   "source": [
    "#Model1-RandomForestClassifier\n",
    "from sklearn.ensemble import RandomForestClassifier\n",
    "from yellowbrick.classifier import DiscriminationThreshold\n",
    "from sklearn.metrics import matthews_corrcoef\n",
    "\n",
    "#Making the model\n",
    "rf_c = RandomForestClassifier(n_estimators=2000, class_weight={0:2.68,1:1})\n",
    "#rf_c = RandomForestClassifier()\n",
    "rf_c.fit(X_train_p, y_train_us)\n",
    "\n",
    "#Predicting\n",
    "y_train_pred = rf_c.predict(X_train_p) \n",
    "y_test_pred = rf_c.predict(X_test_p)\n",
    "\n",
    "#Scoring\n",
    "rf_c_train_acu = accuracy_score(y_train_us,y_train_pred)\n",
    "rf_c_train_mcc = matthews_corrcoef(y_train_us, y_train_pred)\n",
    "\n",
    "rf_c_test_acu = accuracy_score(y_test_us,y_test_pred)\n",
    "rf_c_test_mcc = matthews_corrcoef(y_test_us, y_test_pred)\n",
    "\n",
    "print('Training Score')\n",
    "print('- accuracy: %s' % rf_c_train_acu)\n",
    "print('- matthews cofficient: %s' % rf_c_train_mcc)\n",
    "print('Testing Score')\n",
    "print('- accuracy: %s' % rf_c_test_acu)\n",
    "print('- matthews cofficient: %s' % rf_c_test_mcc)\n",
    "\n",
    "#Confusion Metrics\n",
    "rf_c_cm = ConfusionMatrix(\n",
    "    rf_c, classes = ['not accepted','accepted'])\n",
    "    \n",
    "\n",
    "\n",
    "rf_c_cm.fit(X_train_p, y_train_us)\n",
    "rf_c_cm.score(X_test_p, y_test_us)\n",
    "rf_c_cm.show()\n",
    "\n",
    "print(classification_report(y_train_us, y_train_pred))\n",
    "print(classification_report(y_test_us, y_test_pred))\n",
    "\n",
    "\n",
    "# Creating binary ROAUC visualization with the readable labels\n",
    "#visualizer = ROCAUC(rf_c, classes = ['accepted', 'not accepted'])\n",
    "                    \n",
    "\n",
    "                                        \n",
    "# Fitting to the training data first then scoring with the test data                                    \n",
    "#visualizer.fit(X_train, y_train)\n",
    "#visualizer.score(X_test, y_test)\n",
    "#visualizer.show()\n",
    "\n",
    "#DiscriminationThreshold\n",
    "#visualizer = DiscriminationThreshold(rf_c)\n",
    "\n",
    "# Fit and show the data using the visualizer\n",
    "#visualizer.fit(X_train, y_train)        \n",
    "#visualizer.show()           "
   ]
  },
  {
   "cell_type": "code",
   "execution_count": 38,
   "id": "b7a679fd",
   "metadata": {},
   "outputs": [
    {
     "name": "stdout",
     "output_type": "stream",
     "text": [
      "Training Score\n",
      "- accuracy: 0.9114479764738832\n",
      "- matthews cofficient: 0.8231019838160151\n",
      "Testing Score\n",
      "- accuracy: 0.911920948029273\n",
      "- matthews cofficient: 0.8240548900118247\n"
     ]
    },
    {
     "data": {
      "image/png": "[encoded data removed]",
      "text/plain": [
       "<Figure size 576x396 with 1 Axes>"
      ]
     },
     "metadata": {},
     "output_type": "display_data"
    },
    {
     "name": "stdout",
     "output_type": "stream",
     "text": [
      "              precision    recall  f1-score   support\n",
      "\n",
      "           0       0.90      0.92      0.91    214230\n",
      "           1       0.92      0.90      0.91    214230\n",
      "\n",
      "    accuracy                           0.91    428460\n",
      "   macro avg       0.91      0.91      0.91    428460\n",
      "weighted avg       0.91      0.91      0.91    428460\n",
      "\n",
      "              precision    recall  f1-score   support\n",
      "\n",
      "           0       0.90      0.92      0.91     53838\n",
      "           1       0.92      0.90      0.91     53838\n",
      "\n",
      "    accuracy                           0.91    107676\n",
      "   macro avg       0.91      0.91      0.91    107676\n",
      "weighted avg       0.91      0.91      0.91    107676\n",
      "\n"
     ]
    }
   ],
   "source": [
    "#Model1-RandomForestClassifier\n",
    "from sklearn.ensemble import RandomForestClassifier\n",
    "from yellowbrick.classifier import DiscriminationThreshold\n",
    "from sklearn.metrics import matthews_corrcoef\n",
    "\n",
    "#Making the model\n",
    "rf_c = RandomForestClassifier(n_estimators=2000, class_weight={0:3.3,1:1})\n",
    "#rf_c = RandomForestClassifier()\n",
    "rf_c.fit(X_train_p, y_train_us)\n",
    "\n",
    "#Predicting\n",
    "y_train_pred = rf_c.predict(X_train_p) \n",
    "y_test_pred = rf_c.predict(X_test_p)\n",
    "\n",
    "#Scoring\n",
    "rf_c_train_acu = accuracy_score(y_train_us,y_train_pred)\n",
    "rf_c_train_mcc = matthews_corrcoef(y_train_us, y_train_pred)\n",
    "\n",
    "rf_c_test_acu = accuracy_score(y_test_us,y_test_pred)\n",
    "rf_c_test_mcc = matthews_corrcoef(y_test_us, y_test_pred)\n",
    "\n",
    "print('Training Score')\n",
    "print('- accuracy: %s' % rf_c_train_acu)\n",
    "print('- matthews cofficient: %s' % rf_c_train_mcc)\n",
    "print('Testing Score')\n",
    "print('- accuracy: %s' % rf_c_test_acu)\n",
    "print('- matthews cofficient: %s' % rf_c_test_mcc)\n",
    "\n",
    "#Confusion Metrics\n",
    "rf_c_cm = ConfusionMatrix(\n",
    "    rf_c, classes = ['not accepted','accepted'])\n",
    "    \n",
    "\n",
    "\n",
    "rf_c_cm.fit(X_train_p, y_train_us)\n",
    "rf_c_cm.score(X_test_p, y_test_us)\n",
    "rf_c_cm.show()\n",
    "\n",
    "print(classification_report(y_train_us, y_train_pred))\n",
    "print(classification_report(y_test_us, y_test_pred))\n",
    "\n",
    "\n",
    "# Creating binary ROAUC visualization with the readable labels\n",
    "#visualizer = ROCAUC(rf_c, classes = ['accepted', 'not accepted'])\n",
    "                    \n",
    "\n",
    "                                        \n",
    "# Fitting to the training data first then scoring with the test data                                    \n",
    "#visualizer.fit(X_train, y_train)\n",
    "#visualizer.score(X_test, y_test)\n",
    "#visualizer.show()\n",
    "\n",
    "#DiscriminationThreshold\n",
    "#visualizer = DiscriminationThreshold(rf_c)\n",
    "\n",
    "# Fit and show the data using the visualizer\n",
    "#visualizer.fit(X_train, y_train)        \n",
    "#visualizer.show()           "
   ]
  },
  {
   "cell_type": "code",
   "execution_count": 33,
   "id": "7584c8ae",
   "metadata": {},
   "outputs": [
    {
     "name": "stdout",
     "output_type": "stream",
     "text": [
      "Training Score\n",
      "- accuracy: 0.9164822853942025\n",
      "- matthews cofficient: 0.8329658950193116\n",
      "Testing Score\n",
      "- accuracy: 0.9169824287677848\n",
      "- matthews cofficient: 0.8339655827345458\n"
     ]
    },
    {
     "data": {
      "image/png": "[encoded data removed]",
      "text/plain": [
       "<Figure size 576x396 with 1 Axes>"
      ]
     },
     "metadata": {},
     "output_type": "display_data"
    },
    {
     "name": "stdout",
     "output_type": "stream",
     "text": [
      "              precision    recall  f1-score   support\n",
      "\n",
      "           0       0.92      0.92      0.92    214230\n",
      "           1       0.92      0.92      0.92    214230\n",
      "\n",
      "    accuracy                           0.92    428460\n",
      "   macro avg       0.92      0.92      0.92    428460\n",
      "weighted avg       0.92      0.92      0.92    428460\n",
      "\n",
      "              precision    recall  f1-score   support\n",
      "\n",
      "           0       0.92      0.92      0.92     53838\n",
      "           1       0.92      0.92      0.92     53838\n",
      "\n",
      "    accuracy                           0.92    107676\n",
      "   macro avg       0.92      0.92      0.92    107676\n",
      "weighted avg       0.92      0.92      0.92    107676\n",
      "\n"
     ]
    }
   ],
   "source": [
    "#Model2- DecissionTree Classifier \n",
    "\n",
    "from sklearn.tree import DecisionTreeClassifier\n",
    "#Making the model\n",
    "#dt = DecisionTreeClassifier(max_depth=5)\n",
    "dt = DecisionTreeClassifier(class_weight={0:2.83,1:1})\n",
    "dt.fit(X_train_p, y_train_us)\n",
    "\n",
    "#Predicting\n",
    "y_train_pred = dt.predict(X_train_p) \n",
    "y_test_pred = dt.predict(X_test_p)\n",
    "\n",
    "#Scoring\n",
    "dt_train_acu = accuracy_score(y_train_us,y_train_pred)\n",
    "dt_train_mcc = matthews_corrcoef(y_train_us, y_train_pred)\n",
    "\n",
    "dt_test_acu = accuracy_score(y_test_us,y_test_pred)\n",
    "dt_test_mcc = matthews_corrcoef(y_test_us, y_test_pred)\n",
    "\n",
    "print('Training Score')\n",
    "print('- accuracy: %s' % dt_train_acu)\n",
    "print('- matthews cofficient: %s' % dt_train_mcc)\n",
    "print('Testing Score')\n",
    "print('- accuracy: %s' % dt_test_acu)\n",
    "print('- matthews cofficient: %s' % dt_test_mcc)\n",
    "\n",
    "#Confusion Metrics\n",
    "dt_cm = ConfusionMatrix(\n",
    "    dt, classes = ['not accepted', 'accepted'])\n",
    "    \n",
    "\n",
    "\n",
    "dt_cm.fit(X_train_p, y_train_us)\n",
    "dt_cm.score(X_test_p, y_test_us)\n",
    "dt_cm.show()\n",
    "\n",
    "\n",
    "print(classification_report(y_train_us, y_train_pred))\n",
    "print(classification_report(y_test_us, y_test_pred))\n",
    "\n",
    "# Creating binary ROAUC visualization with the readable labels\n",
    "#visualizer = ROCAUC(dt, classes = ['accepted', 'not accepted'])\n",
    "                    \n",
    "\n",
    "                                        \n",
    "# Fitting to the training data first then scoring with the test data                                    \n",
    "#visualizer.fit(X_train, y_train)\n",
    "#visualizer.score(X_test, y_test)\n",
    "#visualizer.show()\n",
    "\n",
    "#DiscriminationThreshold\n",
    "#visualizer = DiscriminationThreshold(dt)\n",
    "\n",
    "# Fit and show the data using the visualizer\n",
    "#visualizer.fit(X_train, y_train)        \n",
    "#visualizer.show()       "
   ]
  },
  {
   "cell_type": "code",
   "execution_count": 31,
   "id": "c1be52c5",
   "metadata": {},
   "outputs": [
    {
     "name": "stdout",
     "output_type": "stream",
     "text": [
      "Training Score\n",
      "- accuracy: 0.917366848713999\n",
      "- matthews cofficient: 0.83473530927132\n",
      "Testing Score\n",
      "- accuracy: 0.918050447639214\n",
      "- matthews cofficient: 0.8361031850582861\n"
     ]
    },
    {
     "data": {
      "image/png": "[encoded data removed]",
      "text/plain": [
       "<Figure size 576x396 with 1 Axes>"
      ]
     },
     "metadata": {},
     "output_type": "display_data"
    },
    {
     "name": "stdout",
     "output_type": "stream",
     "text": [
      "              precision    recall  f1-score   support\n",
      "\n",
      "           0       0.92      0.92      0.92    214230\n",
      "           1       0.92      0.92      0.92    214230\n",
      "\n",
      "    accuracy                           0.92    428460\n",
      "   macro avg       0.92      0.92      0.92    428460\n",
      "weighted avg       0.92      0.92      0.92    428460\n",
      "\n",
      "              precision    recall  f1-score   support\n",
      "\n",
      "           0       0.92      0.92      0.92     53838\n",
      "           1       0.92      0.92      0.92     53838\n",
      "\n",
      "    accuracy                           0.92    107676\n",
      "   macro avg       0.92      0.92      0.92    107676\n",
      "weighted avg       0.92      0.92      0.92    107676\n",
      "\n"
     ]
    }
   ],
   "source": [
    "#Model2- DecissionTree Classifier \n",
    "\n",
    "from sklearn.tree import DecisionTreeClassifier\n",
    "#Making the model\n",
    "#dt = DecisionTreeClassifier(max_depth=5)\n",
    "dt1 = DecisionTreeClassifier(class_weight={0:2.78,1:1})\n",
    "dt1.fit(X_train_p, y_train_us)\n",
    "\n",
    "#Predicting\n",
    "y_train_pred = dt1.predict(X_train_p) \n",
    "y_test_pred = dt1.predict(X_test_p)\n",
    "\n",
    "#Scoring\n",
    "dt1_train_acu = accuracy_score(y_train_us,y_train_pred)\n",
    "dt1_train_mcc = matthews_corrcoef(y_train_us, y_train_pred)\n",
    "\n",
    "dt1_test_acu = accuracy_score(y_test_us,y_test_pred)\n",
    "dt1_test_mcc = matthews_corrcoef(y_test_us, y_test_pred)\n",
    "\n",
    "print('Training Score')\n",
    "print('- accuracy: %s' % dt1_train_acu)\n",
    "print('- matthews cofficient: %s' % dt1_train_mcc)\n",
    "print('Testing Score')\n",
    "print('- accuracy: %s' % dt1_test_acu)\n",
    "print('- matthews cofficient: %s' % dt1_test_mcc)\n",
    "\n",
    "#Confusion Metrics\n",
    "dt1_cm = ConfusionMatrix(\n",
    "    dt1, classes = ['not accepted', 'accepted'])\n",
    "    \n",
    "\n",
    "\n",
    "dt1_cm.fit(X_train_p, y_train_us)\n",
    "dt1_cm.score(X_test_p, y_test_us)\n",
    "dt1_cm.show()\n",
    "\n",
    "\n",
    "print(classification_report(y_train_us, y_train_pred))\n",
    "print(classification_report(y_test_us, y_test_pred))\n",
    "\n",
    "# Creating binary ROAUC visualization with the readable labels\n",
    "#visualizer = ROCAUC(dt, classes = ['accepted', 'not accepted'])\n",
    "                    \n",
    "\n",
    "                                        \n",
    "# Fitting to the training data first then scoring with the test data                                    \n",
    "#visualizer.fit(X_train, y_train)\n",
    "#visualizer.score(X_test, y_test)\n",
    "#visualizer.show()\n",
    "\n",
    "#DiscriminationThreshold\n",
    "#visualizer = DiscriminationThreshold(dt)\n",
    "\n",
    "# Fit and show the data using the visualizer\n",
    "#visualizer.fit(X_train, y_train)        \n",
    "#visualizer.show()       "
   ]
  },
  {
   "cell_type": "code",
   "execution_count": 20,
   "id": "2d11a6d4",
   "metadata": {},
   "outputs": [
    {
     "name": "stdout",
     "output_type": "stream",
     "text": [
      "Training Score\n",
      "- matthews cofficient: 0.8679314675116819\n",
      "- accuracy: 0.8679314675116819\n",
      "Testing Score\n",
      "- matthews cofficient: 0.8675464647680742\n",
      "- accuracy: 0.8675464647680742\n"
     ]
    },
    {
     "data": {
      "image/png": "[encoded data removed]",
      "text/plain": [
       "<Figure size 576x396 with 1 Axes>"
      ]
     },
     "metadata": {},
     "output_type": "display_data"
    },
    {
     "name": "stdout",
     "output_type": "stream",
     "text": [
      "              precision    recall  f1-score   support\n",
      "\n",
      "           0       0.97      0.89      0.93    214230\n",
      "           1       0.90      0.98      0.94    214230\n",
      "\n",
      "    accuracy                           0.93    428460\n",
      "   macro avg       0.94      0.93      0.93    428460\n",
      "weighted avg       0.94      0.93      0.93    428460\n",
      "\n",
      "              precision    recall  f1-score   support\n",
      "\n",
      "           0       0.97      0.89      0.93     53838\n",
      "           1       0.90      0.98      0.93     53838\n",
      "\n",
      "    accuracy                           0.93    107676\n",
      "   macro avg       0.94      0.93      0.93    107676\n",
      "weighted avg       0.94      0.93      0.93    107676\n",
      "\n"
     ]
    }
   ],
   "source": [
    "from sklearn.neighbors import KNeighborsClassifier\n",
    "knn = KNeighborsClassifier(n_neighbors=10)\n",
    "#knn = KNeighborsClassifier()\n",
    "knn.fit(X_train_p, y_train_us)\n",
    "#Predicting\n",
    "y_train_pred = knn.predict(X_train_p)\n",
    "y_test_pred = knn.predict(X_test_p)\n",
    "#Scoring\n",
    "knn_mcc_train = matthews_corrcoef(y_train_us, y_train_pred)\n",
    "knn_acc_train = accuracy_score(y_train_us,y_train_pred)\n",
    "\n",
    "knn_mcc_test = matthews_corrcoef(y_test_us, y_test_pred)\n",
    "knn_acc_test = accuracy_score(y_test_us,y_test_pred)\n",
    "\n",
    "print('Training Score')\n",
    "print('- matthews cofficient: %s' % knn_mcc_train)\n",
    "print('- accuracy: %s' % knn_mcc_train)\n",
    "print('Testing Score')\n",
    "print('- matthews cofficient: %s' % knn_mcc_test)\n",
    "print('- accuracy: %s' % knn_mcc_test)\n",
    "\n",
    "#Confusion Metrics\n",
    "knn_cm = ConfusionMatrix(\n",
    "    knn, classes = ['not accepted', 'accepted'])\n",
    "    \n",
    "\n",
    "\n",
    "knn_cm.fit(X_train_p, y_train_us)\n",
    "knn_cm.score(X_test_p, y_test_us)\n",
    "knn_cm.show()\n",
    "\n",
    "print(classification_report(y_train_us, y_train_pred))\n",
    "print(classification_report(y_test_us, y_test_pred))\n",
    "\n",
    "# Creating binary ROAUC visualization with the readable labels\n",
    "#visualizer = ROCAUC(knn, classes = ['accepted', 'not accepted'])\n",
    "                    \n",
    "\n",
    "                                        \n",
    "# Fitting to the training data first then scoring with the test data                                    \n",
    "#visualizer.fit(X_train, y_train)\n",
    "#visualizer.score(X_test, y_test)\n",
    "#visualizer.show()\n",
    "\n",
    "#DiscriminationThreshold\n",
    "#visualizer2 = DiscriminationThreshold(knn)\n",
    "\n",
    "# Fit and show the data using the visualizer\n",
    "#visualizer2.fit(X_train, y_train)        \n",
    "#visualizer2.show()       "
   ]
  },
  {
   "cell_type": "code",
   "execution_count": 32,
   "id": "3c4f3c6e",
   "metadata": {},
   "outputs": [
    {
     "name": "stdout",
     "output_type": "stream",
     "text": [
      "Training Score\n",
      "- accuracy: 0.9083064930215189\n",
      "- matthews cofficient: 0.8166340039861488\n",
      "Testing Score\n",
      "- accuracy: 0.9095248709090233\n",
      "- matthews cofficient: 0.819075624577113\n"
     ]
    },
    {
     "data": {
      "image/png": "[encoded data removed]",
      "text/plain": [
       "<Figure size 576x396 with 1 Axes>"
      ]
     },
     "metadata": {},
     "output_type": "display_data"
    },
    {
     "name": "stdout",
     "output_type": "stream",
     "text": [
      "              precision    recall  f1-score   support\n",
      "\n",
      "           0       0.91      0.90      0.91    214230\n",
      "           1       0.91      0.91      0.91    214230\n",
      "\n",
      "    accuracy                           0.91    428460\n",
      "   macro avg       0.91      0.91      0.91    428460\n",
      "weighted avg       0.91      0.91      0.91    428460\n",
      "\n",
      "              precision    recall  f1-score   support\n",
      "\n",
      "           0       0.91      0.91      0.91     53838\n",
      "           1       0.91      0.91      0.91     53838\n",
      "\n",
      "    accuracy                           0.91    107676\n",
      "   macro avg       0.91      0.91      0.91    107676\n",
      "weighted avg       0.91      0.91      0.91    107676\n",
      "\n"
     ]
    }
   ],
   "source": [
    "from sklearn.naive_bayes import GaussianNB\n",
    "\n",
    "#Making the model\n",
    "gnb = GaussianNB()\n",
    "gnb.fit(X_train_p, y_train_us)\n",
    "\n",
    "#Predicting\n",
    "y_train_pred = gnb.predict(X_train_p) \n",
    "y_test_pred = gnb.predict(X_test_p)\n",
    "\n",
    "#Scoring\n",
    "gnb_train_acu = accuracy_score(y_train_us,y_train_pred)\n",
    "gnb_train_mcc = matthews_corrcoef(y_train_us, y_train_pred)\n",
    "\n",
    "gnb_test_acu = accuracy_score(y_test_us,y_test_pred)\n",
    "gnb_test_mcc = matthews_corrcoef(y_test_us, y_test_pred)\n",
    "\n",
    "print('Training Score')\n",
    "print('- accuracy: %s' % gnb_train_acu)\n",
    "print('- matthews cofficient: %s' % gnb_train_mcc)\n",
    "print('Testing Score')\n",
    "print('- accuracy: %s' % gnb_test_acu)\n",
    "print('- matthews cofficient: %s' % gnb_test_mcc)\n",
    "\n",
    "#Confusion Metrics\n",
    "gnb_cm = ConfusionMatrix(\n",
    "    gnb, classes = ['not accepted', 'accepted'])\n",
    "    \n",
    "\n",
    "\n",
    "gnb_cm.fit(X_train_p, y_train_us)\n",
    "gnb_cm.score(X_test_p, y_test_us)\n",
    "gnb_cm.show()\n",
    "\n",
    "\n",
    "print(classification_report(y_train_us, y_train_pred))\n",
    "print(classification_report(y_test_us, y_test_pred))\n",
    "\n",
    "# Creating binary ROAUC visualization with the readable labels\n",
    "#visualizer = ROCAUC(gnb, classes = ['accepted', 'not accepted'])\n",
    "                    \n",
    "\n",
    "                                        \n",
    "# Fitting to the training data first then scoring with the test data                                    \n",
    "#visualizer.fit(X_train, y_train)\n",
    "#visualizer.score(X_test, y_test)\n",
    "#isualizer.show()\n",
    "\n",
    "#DiscriminationThreshold\n",
    "#visualizer = DiscriminationThreshold(gnb)\n",
    "\n",
    "# Fit and show the data using the visualizer\n",
    "#visualizer.fit(X_train, y_train)        \n",
    "#visualizer.show()  "
   ]
  },
  {
   "cell_type": "code",
   "execution_count": 22,
   "id": "d9e537fa",
   "metadata": {},
   "outputs": [
    {
     "data": {
      "image/png": "[encoded data removed]",
      "text/plain": [
       "<Figure size 576x396 with 1 Axes>"
      ]
     },
     "metadata": {},
     "output_type": "display_data"
    },
    {
     "name": "stdout",
     "output_type": "stream",
     "text": [
      "              precision    recall  f1-score   support\n",
      "\n",
      "           0       1.00      0.87      0.93    214230\n",
      "           1       0.88      1.00      0.94    214230\n",
      "\n",
      "    accuracy                           0.93    428460\n",
      "   macro avg       0.94      0.93      0.93    428460\n",
      "weighted avg       0.94      0.93      0.93    428460\n",
      "\n",
      "              precision    recall  f1-score   support\n",
      "\n",
      "           0       1.00      0.87      0.93     53838\n",
      "           1       0.88      1.00      0.94     53838\n",
      "\n",
      "    accuracy                           0.93    107676\n",
      "   macro avg       0.94      0.93      0.93    107676\n",
      "weighted avg       0.94      0.93      0.93    107676\n",
      "\n"
     ]
    }
   ],
   "source": [
    "from sklearn.neural_network import MLPClassifier\n",
    "\n",
    "#Making the model\n",
    "mlp = MLPClassifier(alpha=1, max_iter=1000)\n",
    "#mlp = MLPClassifier()\n",
    "mlp.fit(X_train_p, y_train_us)\n",
    "\n",
    "#Predicting\n",
    "y_train_pred = mlp.predict(X_train_p) \n",
    "y_test_pred = mlp.predict(X_test_p)\n",
    "\n",
    "#Scoring\n",
    "mlp_train_acu = accuracy_score(y_train_us,y_train_pred)\n",
    "mlp_train_mcc = matthews_corrcoef(y_train_us, y_train_pred)\n",
    "\n",
    "mlp_test_acu = accuracy_score(y_test_us,y_test_pred)\n",
    "mlp_test_mcc = matthews_corrcoef(y_test_us, y_test_pred)\n",
    "\n",
    "\n",
    "#Confusion Metrics\n",
    "mlp_cm = ConfusionMatrix(\n",
    "    mlp, classes = ['not accepted', 'accepted'])\n",
    "    \n",
    "\n",
    "\n",
    "mlp_cm.fit(X_train_p, y_train_us)\n",
    "mlp_cm.score(X_test_p, y_test_us)\n",
    "mlp_cm.show()\n",
    "\n",
    "print(classification_report(y_train_us, y_train_pred))\n",
    "print(classification_report(y_test_us, y_test_pred))\n",
    "\n",
    "# Creating binary ROAUC visualization with the readable labels\n",
    "#visualizer = ROCAUC(mlp, classes = ['accepted', 'not accepted'])\n",
    "                    \n",
    "\n",
    "                                        \n",
    "# Fitting to the training data first then scoring with the test data                                    \n",
    "#visualizer.fit(X_train, y_train)\n",
    "#visualizer.score(X_test, y_test)\n",
    "#visualizer.show()\n",
    "\n",
    "#DiscriminationThreshold\n",
    "#visualizer = DiscriminationThreshold(mlp)\n",
    "\n",
    "# Fit and show the data using the visualizer\n",
    "#visualizer.fit(X_train, y_train)        \n",
    "#visualizer.show()  "
   ]
  },
  {
   "cell_type": "code",
   "execution_count": 37,
   "id": "5d9bddff",
   "metadata": {},
   "outputs": [
    {
     "name": "stdout",
     "output_type": "stream",
     "text": [
      "Training Score\n",
      "- accuracy: 0.9350254399477197\n",
      "- matthews cofficient: 0.8742860820692196\n",
      "Testing Score\n",
      "- accuracy: 0.9353152048738809\n",
      "- matthews cofficient: 0.8748622633522588\n"
     ]
    },
    {
     "data": {
      "image/png": "[encoded data removed]",
      "text/plain": [
       "<Figure size 576x396 with 1 Axes>"
      ]
     },
     "metadata": {},
     "output_type": "display_data"
    },
    {
     "name": "stdout",
     "output_type": "stream",
     "text": [
      "              precision    recall  f1-score   support\n",
      "\n",
      "           0       0.98      0.89      0.93    214230\n",
      "           1       0.90      0.98      0.94    214230\n",
      "\n",
      "    accuracy                           0.94    428460\n",
      "   macro avg       0.94      0.94      0.93    428460\n",
      "weighted avg       0.94      0.94      0.93    428460\n",
      "\n",
      "              precision    recall  f1-score   support\n",
      "\n",
      "           0       0.98      0.89      0.93     53838\n",
      "           1       0.90      0.98      0.94     53838\n",
      "\n",
      "    accuracy                           0.94    107676\n",
      "   macro avg       0.94      0.94      0.94    107676\n",
      "weighted avg       0.94      0.94      0.94    107676\n",
      "\n"
     ]
    }
   ],
   "source": [
    "#The final stacked model\n",
    "\n",
    "from sklearn.ensemble import StackingClassifier\n",
    "from sklearn.linear_model import LogisticRegression\n",
    "\n",
    "estimators = [\n",
    "              #('svm_rbf',svm_rbf),\n",
    "              ('dt',dt),\n",
    "              #('rf_c',rf_c),\n",
    "              ('mlp', mlp)\n",
    "]\n",
    "\n",
    "#Making the model\n",
    "stack_m = StackingClassifier(\n",
    "    estimators=estimators, final_estimator=LogisticRegression(max_iter=1000)\n",
    ")\n",
    "stack_m.fit(X_train_p, y_train_us)\n",
    "\n",
    "#Predicting\n",
    "y_train_pred = stack_m.predict(X_train_p) \n",
    "y_test_pred = stack_m.predict(X_test_p)\n",
    "\n",
    "#Scoring\n",
    "stack_m_train_acu = accuracy_score(y_train_us,y_train_pred)\n",
    "stack_m_train_mcc = matthews_corrcoef(y_train_us, y_train_pred)\n",
    "\n",
    "stack_m_test_acu = accuracy_score(y_test_us,y_test_pred)\n",
    "stack_m_test_mcc = matthews_corrcoef(y_test_us, y_test_pred)\n",
    "\n",
    "print('Training Score')\n",
    "print('- accuracy: %s' % stack_m_train_acu)\n",
    "print('- matthews cofficient: %s' % stack_m_train_mcc)\n",
    "print('Testing Score')\n",
    "print('- accuracy: %s' % stack_m_test_acu)\n",
    "print('- matthews cofficient: %s' % stack_m_test_mcc)\n",
    "\n",
    "#Confusion Metrics\n",
    "stack_m_cm = ConfusionMatrix(\n",
    "    stack_m, classes = ['not accepted', 'accepted'])\n",
    "    \n",
    "\n",
    "\n",
    "stack_m_cm.fit(X_train_p, y_train_us)\n",
    "stack_m_cm.score(X_test_p, y_test_us)\n",
    "stack_m_cm.show()\n",
    "\n",
    "print(classification_report(y_train_us, y_train_pred))\n",
    "print(classification_report(y_test_us, y_test_pred))\n",
    "\n",
    "# Creating binary ROAUC visualization with the readable labels\n",
    "#visualizer = ROCAUC(stack_m, classes = ['accepted', 'not accepted'])\n",
    "                    \n",
    "\n",
    "                                        \n",
    "# Fitting to the training data first then scoring with the test data                                    \n",
    "#visualizer.fit(X_train, y_train)\n",
    "#visualizer.score(X_test, y_test)\n",
    "#visualizer.show()\n",
    "\n",
    "#DiscriminationThreshold\n",
    "#visualizer = DiscriminationThreshold(stack_m)\n",
    "\n",
    "# Fit and show the data using the visualizer\n",
    "#visualizer.fit(X_train, y_train)        \n",
    "#visualizer.show()  "
   ]
  },
  {
   "cell_type": "code",
   "execution_count": null,
   "id": "93627e87",
   "metadata": {},
   "outputs": [],
   "source": []
  },
  {
   "cell_type": "code",
   "execution_count": null,
   "id": "9840bda2",
   "metadata": {},
   "outputs": [],
   "source": []
  },
  {
   "cell_type": "code",
   "execution_count": null,
   "id": "c0e0dd1b",
   "metadata": {},
   "outputs": [],
   "source": []
  },
  {
   "cell_type": "code",
   "execution_count": null,
   "id": "51bce52b",
   "metadata": {},
   "outputs": [],
   "source": []
  }
 ],
 "metadata": {
  "kernelspec": {
   "display_name": "Python 3 (ipykernel)",
   "language": "python",
   "name": "python3"
  },
  "language_info": {
   "codemirror_mode": {
    "name": "ipython",
    "version": 3
   },
   "file_extension": ".py",
   "mimetype": "text/x-python",
   "name": "python",
   "nbconvert_exporter": "python",
   "pygments_lexer": "ipython3",
   "version": "3.10.4"
  }
 },
 "nbformat": 4,
 "nbformat_minor": 5
}
