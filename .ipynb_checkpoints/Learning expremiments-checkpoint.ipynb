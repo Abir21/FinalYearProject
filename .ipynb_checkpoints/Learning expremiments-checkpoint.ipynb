{
 "cells": [
  {
   "cell_type": "code",
   "execution_count": 2,
   "id": "b6ab5d36",
   "metadata": {
    "collapsed": true
   },
   "outputs": [
    {
     "name": "stdout",
     "output_type": "stream",
     "text": [
      "Requirement already satisfied: imbalanced-learn in c:\\users\\abirm\\envs\\acceptance_venv\\lib\\site-packages (0.9.0)\n",
      "Requirement already satisfied: joblib>=0.11 in c:\\users\\abirm\\envs\\acceptance_venv\\lib\\site-packages (from imbalanced-learn) (1.1.0)\n",
      "Requirement already satisfied: threadpoolctl>=2.0.0 in c:\\users\\abirm\\envs\\acceptance_venv\\lib\\site-packages (from imbalanced-learn) (3.1.0)\n",
      "Requirement already satisfied: numpy>=1.14.6 in c:\\users\\abirm\\envs\\acceptance_venv\\lib\\site-packages (from imbalanced-learn) (1.22.3)\n",
      "Requirement already satisfied: scipy>=1.1.0 in c:\\users\\abirm\\envs\\acceptance_venv\\lib\\site-packages (from imbalanced-learn) (1.8.0)\n",
      "Requirement already satisfied: scikit-learn>=1.0.1 in c:\\users\\abirm\\envs\\acceptance_venv\\lib\\site-packages (from imbalanced-learn) (1.0.2)\n",
      "Note: you may need to restart the kernel to use updated packages.\n"
     ]
    }
   ],
   "source": [
    "%pip install -U imbalanced-learn"
   ]
  },
  {
   "cell_type": "code",
   "execution_count": 3,
   "id": "b86740df",
   "metadata": {
    "collapsed": true
   },
   "outputs": [
    {
     "name": "stdout",
     "output_type": "stream",
     "text": [
      "Collecting category_encoders\n",
      "  Downloading category_encoders-2.4.0-py2.py3-none-any.whl (86 kB)\n",
      "     ---------------------------------------- 86.6/86.6 KB 4.8 MB/s eta 0:00:00\n",
      "Requirement already satisfied: scikit-learn>=0.20.0 in c:\\users\\abirm\\envs\\acceptance_venv\\lib\\site-packages (from category_encoders) (1.0.2)\n",
      "Requirement already satisfied: scipy>=1.0.0 in c:\\users\\abirm\\envs\\acceptance_venv\\lib\\site-packages (from category_encoders) (1.8.0)\n",
      "Collecting patsy>=0.5.1\n",
      "  Downloading patsy-0.5.2-py2.py3-none-any.whl (233 kB)\n",
      "     ------------------------------------- 233.7/233.7 KB 14.0 MB/s eta 0:00:00\n",
      "Requirement already satisfied: numpy>=1.14.0 in c:\\users\\abirm\\envs\\acceptance_venv\\lib\\site-packages (from category_encoders) (1.22.3)\n",
      "Requirement already satisfied: pandas>=0.21.1 in c:\\users\\abirm\\envs\\acceptance_venv\\lib\\site-packages (from category_encoders) (1.4.2)\n",
      "Collecting statsmodels>=0.9.0\n",
      "  Downloading statsmodels-0.13.2-cp310-cp310-win_amd64.whl (9.1 MB)\n",
      "     ---------------------------------------- 9.1/9.1 MB 21.6 MB/s eta 0:00:00\n",
      "Requirement already satisfied: pytz>=2020.1 in c:\\users\\abirm\\envs\\acceptance_venv\\lib\\site-packages (from pandas>=0.21.1->category_encoders) (2022.1)\n",
      "Requirement already satisfied: python-dateutil>=2.8.1 in c:\\users\\abirm\\envs\\acceptance_venv\\lib\\site-packages (from pandas>=0.21.1->category_encoders) (2.8.2)\n",
      "Requirement already satisfied: six in c:\\users\\abirm\\envs\\acceptance_venv\\lib\\site-packages (from patsy>=0.5.1->category_encoders) (1.16.0)\n",
      "Requirement already satisfied: threadpoolctl>=2.0.0 in c:\\users\\abirm\\envs\\acceptance_venv\\lib\\site-packages (from scikit-learn>=0.20.0->category_encoders) (3.1.0)\n",
      "Requirement already satisfied: joblib>=0.11 in c:\\users\\abirm\\envs\\acceptance_venv\\lib\\site-packages (from scikit-learn>=0.20.0->category_encoders) (1.1.0)\n",
      "Requirement already satisfied: packaging>=21.3 in c:\\users\\abirm\\envs\\acceptance_venv\\lib\\site-packages (from statsmodels>=0.9.0->category_encoders) (21.3)\n",
      "Requirement already satisfied: pyparsing!=3.0.5,>=2.0.2 in c:\\users\\abirm\\envs\\acceptance_venv\\lib\\site-packages (from packaging>=21.3->statsmodels>=0.9.0->category_encoders) (3.0.7)\n",
      "Installing collected packages: patsy, statsmodels, category_encoders\n",
      "Successfully installed category_encoders-2.4.0 patsy-0.5.2 statsmodels-0.13.2\n",
      "Note: you may need to restart the kernel to use updated packages.\n"
     ]
    }
   ],
   "source": [
    "%pip install category_encoders"
   ]
  },
  {
   "cell_type": "code",
   "execution_count": 4,
   "id": "147b062c",
   "metadata": {
    "collapsed": true
   },
   "outputs": [
    {
     "name": "stdout",
     "output_type": "stream",
     "text": [
      "Requirement already satisfied: sklearn in c:\\users\\abirm\\envs\\acceptance_venv\\lib\\site-packages (0.0)\n",
      "Requirement already satisfied: scikit-learn in c:\\users\\abirm\\envs\\acceptance_venv\\lib\\site-packages (from sklearn) (1.0.2)\n",
      "Requirement already satisfied: joblib>=0.11 in c:\\users\\abirm\\envs\\acceptance_venv\\lib\\site-packages (from scikit-learn->sklearn) (1.1.0)\n",
      "Requirement already satisfied: threadpoolctl>=2.0.0 in c:\\users\\abirm\\envs\\acceptance_venv\\lib\\site-packages (from scikit-learn->sklearn) (3.1.0)\n",
      "Requirement already satisfied: scipy>=1.1.0 in c:\\users\\abirm\\envs\\acceptance_venv\\lib\\site-packages (from scikit-learn->sklearn) (1.8.0)\n",
      "Requirement already satisfied: numpy>=1.14.6 in c:\\users\\abirm\\envs\\acceptance_venv\\lib\\site-packages (from scikit-learn->sklearn) (1.22.3)\n",
      "Note: you may need to restart the kernel to use updated packages.\n"
     ]
    }
   ],
   "source": [
    "%pip install sklearn"
   ]
  },
  {
   "cell_type": "code",
   "execution_count": 21,
   "id": "c764c5ee",
   "metadata": {},
   "outputs": [
    {
     "name": "stdout",
     "output_type": "stream",
     "text": [
      "Importing Libs\n"
     ]
    }
   ],
   "source": [
    "#Importing Libraries"
   ]
  },
  {
   "cell_type": "code",
   "execution_count": 7,
   "id": "9fdbd4c4",
   "metadata": {},
   "outputs": [],
   "source": [
    "import pandas as pd\n",
    "import numpy as np\n",
    "import math\n",
    "import io\n",
    "import category_encoders as ce\n",
    "from category_encoders import *\n",
    "import sklearn\n",
    "from sklearn.preprocessing import LabelEncoder\n",
    "from sklearn.preprocessing import OneHotEncoder\n",
    "from sklearn.multioutput import MultiOutputClassifier\n",
    "from sklearn.linear_model import LogisticRegression\n",
    "from sklearn.tree import DecisionTreeClassifier\n",
    "from sklearn.neighbors import KNeighborsClassifier\n",
    "from sklearn.naive_bayes import MultinomialNB\n",
    "from sklearn.feature_extraction.text import CountVectorizer, TfidfTransformer\n",
    "from sklearn.model_selection import train_test_split\n",
    "from sklearn.pipeline import Pipeline\n",
    "from sklearn.metrics import accuracy_score, classification_report, confusion_matrix, multilabel_confusion_matrix, precision_recall_fscore_support, plot_roc_curve, plot_confusion_matrix, plot_precision_recall_curve, plot_det_curve\n"
   ]
  },
  {
   "cell_type": "code",
   "execution_count": null,
   "id": "43f9c73b",
   "metadata": {},
   "outputs": [],
   "source": [
    "#Importing the CSV file without the Unnamed:0 and checking the columns and datatypes and null values-"
   ]
  },
  {
   "cell_type": "code",
   "execution_count": 10,
   "id": "8f78a248",
   "metadata": {},
   "outputs": [],
   "source": [
    "filename = (\"0refugee_dataset.csv\")"
   ]
  },
  {
   "cell_type": "code",
   "execution_count": 12,
   "id": "e713df4b",
   "metadata": {},
   "outputs": [],
   "source": [
    "df = pd.read_csv(filename, index_col=0)"
   ]
  },
  {
   "cell_type": "code",
   "execution_count": 13,
   "id": "e4834c6a",
   "metadata": {},
   "outputs": [
    {
     "name": "stdout",
     "output_type": "stream",
     "text": [
      "<class 'pandas.core.frame.DataFrame'>\n",
      "Int64Index: 100000 entries, 0 to 99999\n",
      "Data columns (total 19 columns):\n",
      " #   Column                                                Non-Null Count   Dtype  \n",
      "---  ------                                                --------------   -----  \n",
      " 0   id                                                    100000 non-null  object \n",
      " 1   language                                              100000 non-null  object \n",
      " 2   education_level                                       100000 non-null  object \n",
      " 3   last_occupation                                       100000 non-null  object \n",
      " 4   predicted_employment_nation                           100000 non-null  object \n",
      " 5   predicted_new_occupation                              100000 non-null  object \n",
      " 6   predicted_new_income                                  100000 non-null  int64  \n",
      " 7   predicted_living_cost                                 100000 non-null  int64  \n",
      " 8   predicted_tax_rate                                    100000 non-null  float64\n",
      " 9   predicted_tax_ammount                                 100000 non-null  float64\n",
      " 10  discretionary_income                                  100000 non-null  float64\n",
      " 11  would_relying_on                                      100000 non-null  object \n",
      " 12  predicted_unchr_mandatory_contribution_amount_of_all  100000 non-null  float64\n",
      " 13  accepted_refugee_unhcr_contribution_prediction        100000 non-null  float64\n",
      " 14  single_family_support_contribution                    100000 non-null  int64  \n",
      " 15  number_of_refugee_family_supported                    100000 non-null  float64\n",
      " 16  qualified_for_unhcr_mandatory_contribution            100000 non-null  object \n",
      " 17  impact_level                                          100000 non-null  object \n",
      " 18  mandatory_contribution_range                          100000 non-null  object \n",
      "dtypes: float64(6), int64(3), object(10)\n",
      "memory usage: 15.3+ MB\n"
     ]
    }
   ],
   "source": [
    "df.info()"
   ]
  },
  {
   "cell_type": "code",
   "execution_count": 14,
   "id": "c2ca4a36",
   "metadata": {},
   "outputs": [
    {
     "data": {
      "text/html": [
       "<div>\n",
       "<style scoped>\n",
       "    .dataframe tbody tr th:only-of-type {\n",
       "        vertical-align: middle;\n",
       "    }\n",
       "\n",
       "    .dataframe tbody tr th {\n",
       "        vertical-align: top;\n",
       "    }\n",
       "\n",
       "    .dataframe thead th {\n",
       "        text-align: right;\n",
       "    }\n",
       "</style>\n",
       "<table border=\"1\" class=\"dataframe\">\n",
       "  <thead>\n",
       "    <tr style=\"text-align: right;\">\n",
       "      <th></th>\n",
       "      <th>id</th>\n",
       "      <th>language</th>\n",
       "      <th>education_level</th>\n",
       "      <th>last_occupation</th>\n",
       "      <th>predicted_employment_nation</th>\n",
       "      <th>predicted_new_occupation</th>\n",
       "      <th>predicted_new_income</th>\n",
       "      <th>predicted_living_cost</th>\n",
       "      <th>predicted_tax_rate</th>\n",
       "      <th>predicted_tax_ammount</th>\n",
       "      <th>discretionary_income</th>\n",
       "      <th>would_relying_on</th>\n",
       "      <th>predicted_unchr_mandatory_contribution_amount_of_all</th>\n",
       "      <th>accepted_refugee_unhcr_contribution_prediction</th>\n",
       "      <th>single_family_support_contribution</th>\n",
       "      <th>number_of_refugee_family_supported</th>\n",
       "      <th>qualified_for_unhcr_mandatory_contribution</th>\n",
       "      <th>impact_level</th>\n",
       "      <th>mandatory_contribution_range</th>\n",
       "    </tr>\n",
       "  </thead>\n",
       "  <tbody>\n",
       "    <tr>\n",
       "      <th>0</th>\n",
       "      <td>b267fb5a9ec342f2824ed421a51c402c</td>\n",
       "      <td>Native</td>\n",
       "      <td>No Education</td>\n",
       "      <td>Mechanic</td>\n",
       "      <td>UK</td>\n",
       "      <td>Mechanic</td>\n",
       "      <td>0</td>\n",
       "      <td>24060</td>\n",
       "      <td>0.000</td>\n",
       "      <td>0.0</td>\n",
       "      <td>-24060.0</td>\n",
       "      <td>unemployemnt benefits</td>\n",
       "      <td>0.0</td>\n",
       "      <td>0.0</td>\n",
       "      <td>248</td>\n",
       "      <td>0.0</td>\n",
       "      <td>not accepted</td>\n",
       "      <td>no impact</td>\n",
       "      <td>£1250 and lower</td>\n",
       "    </tr>\n",
       "    <tr>\n",
       "      <th>1</th>\n",
       "      <td>f0dea19ace1d4da884a43473d5fc1d01</td>\n",
       "      <td>Native</td>\n",
       "      <td>No Education</td>\n",
       "      <td>Chefs</td>\n",
       "      <td>US</td>\n",
       "      <td>Chefs</td>\n",
       "      <td>0</td>\n",
       "      <td>29136</td>\n",
       "      <td>0.000</td>\n",
       "      <td>0.0</td>\n",
       "      <td>-29136.0</td>\n",
       "      <td>unemployemnt benefits</td>\n",
       "      <td>0.0</td>\n",
       "      <td>0.0</td>\n",
       "      <td>248</td>\n",
       "      <td>0.0</td>\n",
       "      <td>not accepted</td>\n",
       "      <td>no impact</td>\n",
       "      <td>£1250 and lower</td>\n",
       "    </tr>\n",
       "    <tr>\n",
       "      <th>2</th>\n",
       "      <td>f0182310c6c24678abaa7b91d3ea69fe</td>\n",
       "      <td>Native + English</td>\n",
       "      <td>Masters</td>\n",
       "      <td>Electrical Engineer</td>\n",
       "      <td>US</td>\n",
       "      <td>Electrical Engineer</td>\n",
       "      <td>55139</td>\n",
       "      <td>29136</td>\n",
       "      <td>0.205</td>\n",
       "      <td>11304.0</td>\n",
       "      <td>14699.0</td>\n",
       "      <td>self income</td>\n",
       "      <td>14699.0</td>\n",
       "      <td>14699.0</td>\n",
       "      <td>248</td>\n",
       "      <td>59.0</td>\n",
       "      <td>accepted</td>\n",
       "      <td>medium impact</td>\n",
       "      <td>£8432 to £16864</td>\n",
       "    </tr>\n",
       "    <tr>\n",
       "      <th>3</th>\n",
       "      <td>027ee1ef27e04b00ac3e79bff5355af7</td>\n",
       "      <td>Native + English</td>\n",
       "      <td>Associate Degree</td>\n",
       "      <td>Cloud Engineer</td>\n",
       "      <td>UK</td>\n",
       "      <td>Cloud Engineer</td>\n",
       "      <td>61579</td>\n",
       "      <td>24060</td>\n",
       "      <td>0.400</td>\n",
       "      <td>24632.0</td>\n",
       "      <td>12887.0</td>\n",
       "      <td>self income</td>\n",
       "      <td>12887.0</td>\n",
       "      <td>12887.0</td>\n",
       "      <td>248</td>\n",
       "      <td>51.0</td>\n",
       "      <td>accepted</td>\n",
       "      <td>medium impact</td>\n",
       "      <td>£8432 to £16864</td>\n",
       "    </tr>\n",
       "    <tr>\n",
       "      <th>4</th>\n",
       "      <td>741d019d8e3046caa7a4322eddaab0ab</td>\n",
       "      <td>Native</td>\n",
       "      <td>Masters</td>\n",
       "      <td>Medical Technician</td>\n",
       "      <td>UK</td>\n",
       "      <td>Medical Technician</td>\n",
       "      <td>62248</td>\n",
       "      <td>24060</td>\n",
       "      <td>0.400</td>\n",
       "      <td>24900.0</td>\n",
       "      <td>13288.0</td>\n",
       "      <td>self income</td>\n",
       "      <td>13288.0</td>\n",
       "      <td>13288.0</td>\n",
       "      <td>248</td>\n",
       "      <td>53.0</td>\n",
       "      <td>accepted</td>\n",
       "      <td>medium impact</td>\n",
       "      <td>£8432 to £16864</td>\n",
       "    </tr>\n",
       "  </tbody>\n",
       "</table>\n",
       "</div>"
      ],
      "text/plain": [
       "                                 id          language   education_level  \\\n",
       "0  b267fb5a9ec342f2824ed421a51c402c            Native      No Education   \n",
       "1  f0dea19ace1d4da884a43473d5fc1d01            Native      No Education   \n",
       "2  f0182310c6c24678abaa7b91d3ea69fe  Native + English           Masters   \n",
       "3  027ee1ef27e04b00ac3e79bff5355af7  Native + English  Associate Degree   \n",
       "4  741d019d8e3046caa7a4322eddaab0ab            Native           Masters   \n",
       "\n",
       "       last_occupation predicted_employment_nation predicted_new_occupation  \\\n",
       "0             Mechanic                          UK                 Mechanic   \n",
       "1                Chefs                          US                    Chefs   \n",
       "2  Electrical Engineer                          US      Electrical Engineer   \n",
       "3       Cloud Engineer                          UK           Cloud Engineer   \n",
       "4   Medical Technician                          UK       Medical Technician   \n",
       "\n",
       "   predicted_new_income  predicted_living_cost  predicted_tax_rate  \\\n",
       "0                     0                  24060               0.000   \n",
       "1                     0                  29136               0.000   \n",
       "2                 55139                  29136               0.205   \n",
       "3                 61579                  24060               0.400   \n",
       "4                 62248                  24060               0.400   \n",
       "\n",
       "   predicted_tax_ammount  discretionary_income       would_relying_on  \\\n",
       "0                    0.0              -24060.0  unemployemnt benefits   \n",
       "1                    0.0              -29136.0  unemployemnt benefits   \n",
       "2                11304.0               14699.0            self income   \n",
       "3                24632.0               12887.0            self income   \n",
       "4                24900.0               13288.0            self income   \n",
       "\n",
       "   predicted_unchr_mandatory_contribution_amount_of_all  \\\n",
       "0                                                0.0      \n",
       "1                                                0.0      \n",
       "2                                            14699.0      \n",
       "3                                            12887.0      \n",
       "4                                            13288.0      \n",
       "\n",
       "   accepted_refugee_unhcr_contribution_prediction  \\\n",
       "0                                             0.0   \n",
       "1                                             0.0   \n",
       "2                                         14699.0   \n",
       "3                                         12887.0   \n",
       "4                                         13288.0   \n",
       "\n",
       "   single_family_support_contribution  number_of_refugee_family_supported  \\\n",
       "0                                 248                                 0.0   \n",
       "1                                 248                                 0.0   \n",
       "2                                 248                                59.0   \n",
       "3                                 248                                51.0   \n",
       "4                                 248                                53.0   \n",
       "\n",
       "  qualified_for_unhcr_mandatory_contribution   impact_level  \\\n",
       "0                               not accepted      no impact   \n",
       "1                               not accepted      no impact   \n",
       "2                                   accepted  medium impact   \n",
       "3                                   accepted  medium impact   \n",
       "4                                   accepted  medium impact   \n",
       "\n",
       "  mandatory_contribution_range  \n",
       "0              £1250 and lower  \n",
       "1              £1250 and lower  \n",
       "2              £8432 to £16864  \n",
       "3              £8432 to £16864  \n",
       "4              £8432 to £16864  "
      ]
     },
     "execution_count": 14,
     "metadata": {},
     "output_type": "execute_result"
    }
   ],
   "source": [
    "df.head()"
   ]
  },
  {
   "cell_type": "code",
   "execution_count": null,
   "id": "e3959efc",
   "metadata": {},
   "outputs": [],
   "source": [
    "#creating a new dataframe with the desired features and labels"
   ]
  },
  {
   "cell_type": "code",
   "execution_count": 15,
   "id": "02848f25",
   "metadata": {},
   "outputs": [
    {
     "data": {
      "text/html": [
       "<div>\n",
       "<style scoped>\n",
       "    .dataframe tbody tr th:only-of-type {\n",
       "        vertical-align: middle;\n",
       "    }\n",
       "\n",
       "    .dataframe tbody tr th {\n",
       "        vertical-align: top;\n",
       "    }\n",
       "\n",
       "    .dataframe thead th {\n",
       "        text-align: right;\n",
       "    }\n",
       "</style>\n",
       "<table border=\"1\" class=\"dataframe\">\n",
       "  <thead>\n",
       "    <tr style=\"text-align: right;\">\n",
       "      <th></th>\n",
       "      <th>language</th>\n",
       "      <th>education_level</th>\n",
       "      <th>last_occupation</th>\n",
       "      <th>qualified_for_unhcr_mandatory_contribution</th>\n",
       "    </tr>\n",
       "  </thead>\n",
       "  <tbody>\n",
       "    <tr>\n",
       "      <th>99995</th>\n",
       "      <td>Native + French</td>\n",
       "      <td>High School</td>\n",
       "      <td>Farmer</td>\n",
       "      <td>not accepted</td>\n",
       "    </tr>\n",
       "    <tr>\n",
       "      <th>99996</th>\n",
       "      <td>Native + English</td>\n",
       "      <td>Undergrad</td>\n",
       "      <td>Nurses and Personal Carers</td>\n",
       "      <td>not accepted</td>\n",
       "    </tr>\n",
       "    <tr>\n",
       "      <th>99997</th>\n",
       "      <td>Native + English</td>\n",
       "      <td>No Education</td>\n",
       "      <td>Mechanic</td>\n",
       "      <td>not accepted</td>\n",
       "    </tr>\n",
       "    <tr>\n",
       "      <th>99998</th>\n",
       "      <td>Native + English + French</td>\n",
       "      <td>Associate Degree</td>\n",
       "      <td>Physical Therapist</td>\n",
       "      <td>accepted</td>\n",
       "    </tr>\n",
       "    <tr>\n",
       "      <th>99999</th>\n",
       "      <td>Native + English</td>\n",
       "      <td>Undergrad</td>\n",
       "      <td>Pharmaceutical Professional</td>\n",
       "      <td>accepted</td>\n",
       "    </tr>\n",
       "  </tbody>\n",
       "</table>\n",
       "</div>"
      ],
      "text/plain": [
       "                        language   education_level  \\\n",
       "99995            Native + French       High School   \n",
       "99996           Native + English         Undergrad   \n",
       "99997           Native + English      No Education   \n",
       "99998  Native + English + French  Associate Degree   \n",
       "99999           Native + English         Undergrad   \n",
       "\n",
       "                   last_occupation qualified_for_unhcr_mandatory_contribution  \n",
       "99995                       Farmer                               not accepted  \n",
       "99996   Nurses and Personal Carers                               not accepted  \n",
       "99997                     Mechanic                               not accepted  \n",
       "99998           Physical Therapist                                   accepted  \n",
       "99999  Pharmaceutical Professional                                   accepted  "
      ]
     },
     "execution_count": 15,
     "metadata": {},
     "output_type": "execute_result"
    }
   ],
   "source": [
    "df2 = df[['language','education_level', 'last_occupation', 'qualified_for_unhcr_mandatory_contribution']]\n",
    "df2.tail()"
   ]
  },
  {
   "cell_type": "code",
   "execution_count": null,
   "id": "fecca0b1",
   "metadata": {},
   "outputs": [],
   "source": []
  },
  {
   "cell_type": "code",
   "execution_count": 16,
   "id": "64b037f4",
   "metadata": {},
   "outputs": [
    {
     "data": {
      "text/html": [
       "<div>\n",
       "<style scoped>\n",
       "    .dataframe tbody tr th:only-of-type {\n",
       "        vertical-align: middle;\n",
       "    }\n",
       "\n",
       "    .dataframe tbody tr th {\n",
       "        vertical-align: top;\n",
       "    }\n",
       "\n",
       "    .dataframe thead th {\n",
       "        text-align: right;\n",
       "    }\n",
       "</style>\n",
       "<table border=\"1\" class=\"dataframe\">\n",
       "  <thead>\n",
       "    <tr style=\"text-align: right;\">\n",
       "      <th></th>\n",
       "      <th>language</th>\n",
       "      <th>education_level</th>\n",
       "      <th>last_occupation</th>\n",
       "    </tr>\n",
       "  </thead>\n",
       "  <tbody>\n",
       "    <tr>\n",
       "      <th>99995</th>\n",
       "      <td>Native + French</td>\n",
       "      <td>High School</td>\n",
       "      <td>Farmer</td>\n",
       "    </tr>\n",
       "    <tr>\n",
       "      <th>99996</th>\n",
       "      <td>Native + English</td>\n",
       "      <td>Undergrad</td>\n",
       "      <td>Nurses and Personal Carers</td>\n",
       "    </tr>\n",
       "    <tr>\n",
       "      <th>99997</th>\n",
       "      <td>Native + English</td>\n",
       "      <td>No Education</td>\n",
       "      <td>Mechanic</td>\n",
       "    </tr>\n",
       "    <tr>\n",
       "      <th>99998</th>\n",
       "      <td>Native + English + French</td>\n",
       "      <td>Associate Degree</td>\n",
       "      <td>Physical Therapist</td>\n",
       "    </tr>\n",
       "    <tr>\n",
       "      <th>99999</th>\n",
       "      <td>Native + English</td>\n",
       "      <td>Undergrad</td>\n",
       "      <td>Pharmaceutical Professional</td>\n",
       "    </tr>\n",
       "  </tbody>\n",
       "</table>\n",
       "</div>"
      ],
      "text/plain": [
       "                        language   education_level  \\\n",
       "99995            Native + French       High School   \n",
       "99996           Native + English         Undergrad   \n",
       "99997           Native + English      No Education   \n",
       "99998  Native + English + French  Associate Degree   \n",
       "99999           Native + English         Undergrad   \n",
       "\n",
       "                   last_occupation  \n",
       "99995                       Farmer  \n",
       "99996   Nurses and Personal Carers  \n",
       "99997                     Mechanic  \n",
       "99998           Physical Therapist  \n",
       "99999  Pharmaceutical Professional  "
      ]
     },
     "execution_count": 16,
     "metadata": {},
     "output_type": "execute_result"
    }
   ],
   "source": [
    "df3 = df[['language','education_level', 'last_occupation']]\n",
    "df3.tail()"
   ]
  },
  {
   "cell_type": "code",
   "execution_count": 17,
   "id": "67f2efcb",
   "metadata": {},
   "outputs": [],
   "source": [
    "add_columns = pd.get_dummies(df3, columns=['language','education_level', 'last_occupation'])"
   ]
  },
  {
   "cell_type": "code",
   "execution_count": 18,
   "id": "accd9426",
   "metadata": {},
   "outputs": [
    {
     "data": {
      "text/plain": [
       "Index(['language_Native', 'language_Native + English',\n",
       "       'language_Native + English + French', 'language_Native + French',\n",
       "       'education_level_Associate Degree', 'education_level_High School',\n",
       "       'education_level_Masters', 'education_level_No Education',\n",
       "       'education_level_PhD', 'education_level_Primary',\n",
       "       'education_level_Undergrad', 'education_level_Vocational Degree',\n",
       "       'last_occupation_AI Specialist', 'last_occupation_Accountant',\n",
       "       'last_occupation_Administrative Assistant', 'last_occupation_Baker',\n",
       "       'last_occupation_Chefs', 'last_occupation_Civil Engineer',\n",
       "       'last_occupation_Cloud Engineer', 'last_occupation_Construction Worker',\n",
       "       'last_occupation_Cybersecurity Professional',\n",
       "       'last_occupation_Data Scientist', 'last_occupation_Dentist',\n",
       "       'last_occupation_DevOps Professional',\n",
       "       'last_occupation_Electrical Engineer',\n",
       "       'last_occupation_Electronic Engineer', 'last_occupation_Farmer',\n",
       "       'last_occupation_Fisher',\n",
       "       'last_occupation_IT Professional and Constultant',\n",
       "       'last_occupation_Legal Professional',\n",
       "       'last_occupation_Machine Learning Professional',\n",
       "       'last_occupation_Managment Professional',\n",
       "       'last_occupation_Marketing Professional', 'last_occupation_Mechanic',\n",
       "       'last_occupation_Mechanical Engineer', 'last_occupation_Medical Doctor',\n",
       "       'last_occupation_Medical Technician',\n",
       "       'last_occupation_Newtwork Engineer', 'last_occupation_Not employed',\n",
       "       'last_occupation_Nurses and Personal Carers',\n",
       "       'last_occupation_Petroleum Engineer',\n",
       "       'last_occupation_Pharmaceutical Professional',\n",
       "       'last_occupation_Physical Therapist',\n",
       "       'last_occupation_Sales Professional',\n",
       "       'last_occupation_Software Developer',\n",
       "       'last_occupation_University Lecturer', 'last_occupation_Vet'],\n",
       "      dtype='object')"
      ]
     },
     "execution_count": 18,
     "metadata": {},
     "output_type": "execute_result"
    }
   ],
   "source": [
    "add_columns.columns"
   ]
  },
  {
   "cell_type": "code",
   "execution_count": 20,
   "id": "e8daab8d",
   "metadata": {},
   "outputs": [
    {
     "name": "stdout",
     "output_type": "stream",
     "text": [
      "shape of original dataset : (100000, 4)\n",
      "shape of input - training set (100000, 46)\n",
      "shape of output - training set (100000,)\n",
      "shape of input - testing set (100000, 46)\n",
      "shape of output - testing set (100000,)\n"
     ]
    }
   ],
   "source": [
    "x_train = add_columns.iloc[:,:-1]\n",
    "y_train = df2[\"qualified_for_unhcr_mandatory_contribution\"]\n",
    "\n",
    "x_test = add_columns.iloc[:,:-1]\n",
    "y_test = df2[\"qualified_for_unhcr_mandatory_contribution\"]\n",
    "\n",
    "x_test = add_columns.iloc[:,:-1]\n",
    "y_test = df2[\"qualified_for_unhcr_mandatory_contribution\"]\n",
    "\n",
    "print(\"shape of original dataset :\", df2.shape)\n",
    "print(\"shape of input - training set\", x_train.shape)\n",
    "print(\"shape of output - training set\", y_train.shape)\n",
    "print(\"shape of input - testing set\", x_test.shape)\n",
    "print(\"shape of output - testing set\", y_test.shape)"
   ]
  },
  {
   "cell_type": "code",
   "execution_count": null,
   "id": "716d80f0",
   "metadata": {},
   "outputs": [],
   "source": []
  }
 ],
 "metadata": {
  "kernelspec": {
   "display_name": "Python 3 (ipykernel)",
   "language": "python",
   "name": "python3"
  },
  "language_info": {
   "codemirror_mode": {
    "name": "ipython",
    "version": 3
   },
   "file_extension": ".py",
   "mimetype": "text/x-python",
   "name": "python",
   "nbconvert_exporter": "python",
   "pygments_lexer": "ipython3",
   "version": "3.10.4"
  }
 },
 "nbformat": 4,
 "nbformat_minor": 5
}
