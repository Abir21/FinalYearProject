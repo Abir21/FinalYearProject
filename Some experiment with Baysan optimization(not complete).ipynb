{
 "cells": [
  {
   "cell_type": "code",
   "execution_count": 1,
   "id": "a25564e6",
   "metadata": {},
   "outputs": [
    {
     "name": "stdout",
     "output_type": "stream",
     "text": [
      "Requirement already satisfied: imbalanced-learn in c:\\users\\abirm\\envs\\acceptance_venv\\lib\\site-packages (0.9.0)\n",
      "Requirement already satisfied: threadpoolctl>=2.0.0 in c:\\users\\abirm\\envs\\acceptance_venv\\lib\\site-packages (from imbalanced-learn) (3.1.0)\n",
      "Requirement already satisfied: numpy>=1.14.6 in c:\\users\\abirm\\envs\\acceptance_venv\\lib\\site-packages (from imbalanced-learn) (1.21.6)\n",
      "Requirement already satisfied: joblib>=0.11 in c:\\users\\abirm\\envs\\acceptance_venv\\lib\\site-packages (from imbalanced-learn) (1.0.1)\n",
      "Requirement already satisfied: scikit-learn>=1.0.1 in c:\\users\\abirm\\envs\\acceptance_venv\\lib\\site-packages (from imbalanced-learn) (1.0.2)\n",
      "Requirement already satisfied: scipy>=1.1.0 in c:\\users\\abirm\\envs\\acceptance_venv\\lib\\site-packages (from imbalanced-learn) (1.8.0)\n",
      "Note: you may need to restart the kernel to use updated packages.\n"
     ]
    }
   ],
   "source": [
    "%pip install -U imbalanced-learn"
   ]
  },
  {
   "cell_type": "code",
   "execution_count": 2,
   "id": "cc74fccd",
   "metadata": {},
   "outputs": [],
   "source": [
    "import pandas as pd\n",
    "import numpy as np\n",
    "from sklearn.metrics import accuracy_score, classification_report, confusion_matrix, multilabel_confusion_matrix, precision_recall_fscore_support, plot_roc_curve, plot_confusion_matrix, plot_precision_recall_curve, plot_det_curve"
   ]
  },
  {
   "cell_type": "code",
   "execution_count": 3,
   "id": "d1ef417a",
   "metadata": {},
   "outputs": [],
   "source": [
    "refugee = pd.read_csv('4milrefugee_range_final_dataset.csv', index_col=0)"
   ]
  },
  {
   "cell_type": "code",
   "execution_count": 4,
   "id": "48b0499c",
   "metadata": {},
   "outputs": [],
   "source": [
    "df = refugee.copy()"
   ]
  },
  {
   "cell_type": "code",
   "execution_count": 5,
   "id": "6f6a9f8a",
   "metadata": {},
   "outputs": [
    {
     "data": {
      "text/plain": [
       "£1250 and lower       2927842\n",
       "£8432 to £16864        372837\n",
       "£1488 to £6448         280140\n",
       "£16864 to £33728       222282\n",
       "£6488 to £8432         126490\n",
       "£33728 to £58776        47121\n",
       "£1488                   11227\n",
       "£58776 to £75640         6577\n",
       "£92504 and greater       3274\n",
       "£75640 to £92504         2210\n",
       "Name: mandatory_contribution_range, dtype: int64"
      ]
     },
     "execution_count": 5,
     "metadata": {},
     "output_type": "execute_result"
    }
   ],
   "source": [
    "df['mandatory_contribution_range'].value_counts()"
   ]
  },
  {
   "cell_type": "code",
   "execution_count": 6,
   "id": "db755bbb",
   "metadata": {},
   "outputs": [],
   "source": [
    "target_variable = 'mandatory_contribution_range'\n",
    "encode_variable = ['language', 'education_level', 'last_occupation']"
   ]
  },
  {
   "cell_type": "code",
   "execution_count": 7,
   "id": "bb6b9737",
   "metadata": {},
   "outputs": [],
   "source": [
    "for col in encode_variable:\n",
    "    dummy_data = pd.get_dummies(df[col], prefix=col)\n",
    "    df = pd.concat([df, dummy_data], axis=1)\n",
    "    del df[col]"
   ]
  },
  {
   "cell_type": "code",
   "execution_count": 8,
   "id": "10214420",
   "metadata": {},
   "outputs": [],
   "source": [
    "mapping_target = {'£1250 and lower':0, '£1488':1, '£1488 to £6448':2, '£6488 to £8432':3, '£8432 to £16864':4, '£16864 to £33728':5, '£33728 to £58776':6, '£58776 to £75640':7, '£75640 to £92504':8, '£92504 and greater':9}\n",
    "def encoded_target(val):\n",
    "    return mapping_target[val]"
   ]
  },
  {
   "cell_type": "code",
   "execution_count": 9,
   "id": "f8bf5a77",
   "metadata": {},
   "outputs": [],
   "source": [
    "df['mandatory_contribution_range'] = df['mandatory_contribution_range'].apply(encoded_target)"
   ]
  },
  {
   "cell_type": "code",
   "execution_count": 10,
   "id": "a2363566",
   "metadata": {},
   "outputs": [],
   "source": [
    "X = df.drop('mandatory_contribution_range', axis=1)\n",
    "y = df['mandatory_contribution_range']"
   ]
  },
  {
   "cell_type": "code",
   "execution_count": 11,
   "id": "3a2f58e4",
   "metadata": {},
   "outputs": [],
   "source": [
    "#the y values does not count all the elements and leaves out element number 8. why?"
   ]
  },
  {
   "cell_type": "code",
   "execution_count": 12,
   "id": "adb38af1",
   "metadata": {},
   "outputs": [
    {
     "data": {
      "text/plain": [
       "0    2927842\n",
       "4     372837\n",
       "2     280140\n",
       "5     222282\n",
       "3     126490\n",
       "6      47121\n",
       "1      11227\n",
       "7       6577\n",
       "9       3274\n",
       "8       2210\n",
       "Name: mandatory_contribution_range, dtype: int64"
      ]
     },
     "execution_count": 12,
     "metadata": {},
     "output_type": "execute_result"
    }
   ],
   "source": [
    "y.value_counts()"
   ]
  },
  {
   "cell_type": "code",
   "execution_count": 13,
   "id": "c74abbca",
   "metadata": {},
   "outputs": [
    {
     "data": {
      "text/plain": [
       "<AxesSubplot:ylabel='mandatory_contribution_range'>"
      ]
     },
     "execution_count": 13,
     "metadata": {},
     "output_type": "execute_result"
    },
    {
     "data": {
      "image/png": "[encoded data removed]",
      "text/plain": [
       "<Figure size 432x288 with 1 Axes>"
      ]
     },
     "metadata": {},
     "output_type": "display_data"
    }
   ],
   "source": [
    "y.value_counts().plot.pie(autopct='%.2f')"
   ]
  },
  {
   "cell_type": "code",
   "execution_count": null,
   "id": "4efb460c",
   "metadata": {},
   "outputs": [],
   "source": [
    "from imblearn.over_sampling import RandomOverSampler\n",
    "\n",
    "#rand_over_sampler = RandomOverSampler(sampling_strategy =1)#float\n",
    "rand_over_sampler = RandomOverSampler(sampling_strategy = \"not majority\") #string\n",
    "X_resampled, y_resampled = rand_over_sampler.fit_resample(X, y)\n",
    "\n",
    "ax = y_resampled.value_counts().plot.pie(autopct='%.2f')\n",
    "_=ax.set_title(\"OverSampled\")"
   ]
  },
  {
   "cell_type": "code",
   "execution_count": null,
   "id": "66f431cf",
   "metadata": {},
   "outputs": [],
   "source": [
    "y_resampled.value_counts()"
   ]
  },
  {
   "cell_type": "code",
   "execution_count": null,
   "id": "7f962b7b",
   "metadata": {},
   "outputs": [],
   "source": [
    "#Used regression model "
   ]
  },
  {
   "cell_type": "code",
   "execution_count": null,
   "id": "7952c00f",
   "metadata": {},
   "outputs": [],
   "source": [
    "from sklearn.ensemble import RandomForestRegressor"
   ]
  },
  {
   "cell_type": "code",
   "execution_count": null,
   "id": "e96131fd",
   "metadata": {},
   "outputs": [],
   "source": [
    "regressor = RandomForestRegressor(n_estimators = 100)"
   ]
  },
  {
   "cell_type": "code",
   "execution_count": null,
   "id": "2455872c",
   "metadata": {},
   "outputs": [],
   "source": [
    "# Training the model \n",
    "regressor.fit (X_resampled, y_resampled)"
   ]
  },
  {
   "cell_type": "code",
   "execution_count": null,
   "id": "02a49cc9",
   "metadata": {},
   "outputs": [],
   "source": [
    "# Prediction on Test Data\n",
    "test_data_prediction = regressor.predict(X_resampled)"
   ]
  },
  {
   "cell_type": "code",
   "execution_count": null,
   "id": "ffd11f57",
   "metadata": {},
   "outputs": [],
   "source": []
  },
  {
   "cell_type": "code",
   "execution_count": null,
   "id": "7b6ae2dd",
   "metadata": {},
   "outputs": [],
   "source": []
  },
  {
   "cell_type": "code",
   "execution_count": null,
   "id": "64b4039a",
   "metadata": {},
   "outputs": [],
   "source": [
    "from sklearn import metrics"
   ]
  },
  {
   "cell_type": "code",
   "execution_count": null,
   "id": "30a97f74",
   "metadata": {},
   "outputs": [],
   "source": [
    "error_score = metrics.r2_score(y_resampled,test_data_prediction)\n",
    "print (\"R Squarred Error : \", error_score)"
   ]
  },
  {
   "cell_type": "code",
   "execution_count": null,
   "id": "986bbb03",
   "metadata": {},
   "outputs": [],
   "source": [
    "y_resampled = list (y_resampled)"
   ]
  },
  {
   "cell_type": "code",
   "execution_count": null,
   "id": "b4b72d71",
   "metadata": {},
   "outputs": [],
   "source": [
    "import matplotlib.pyplot as plt \n",
    "import seaborn as sns"
   ]
  },
  {
   "cell_type": "code",
   "execution_count": null,
   "id": "ec92a7f2",
   "metadata": {},
   "outputs": [],
   "source": [
    "plt.plot(y_resampled, color ='blue', label='Actual Value')\n",
    "plt.plot(test_data_prediction, color ='green',label='Predicted Values')\n",
    "plt.title ('Actual VS Predicted Contribtuion Range')\n",
    "plt.xlabel('Number of values')\n",
    "plt.ylabel('Contribution Range')\n",
    "plt.legend()\n",
    "plt.show()"
   ]
  },
  {
   "cell_type": "code",
   "execution_count": null,
   "id": "d1ef1bba",
   "metadata": {},
   "outputs": [],
   "source": [
    "plt.plot(y_resampled, color ='blue', label='Actual Value')\n"
   ]
  },
  {
   "cell_type": "code",
   "execution_count": null,
   "id": "3c182fe2",
   "metadata": {},
   "outputs": [],
   "source": [
    "plt.plot(test_data_prediction, color ='green',label='Predicted Values')"
   ]
  },
  {
   "cell_type": "code",
   "execution_count": null,
   "id": "618bbca1",
   "metadata": {},
   "outputs": [],
   "source": [
    "#This is best till now"
   ]
  },
  {
   "cell_type": "code",
   "execution_count": null,
   "id": "6ba27b21",
   "metadata": {},
   "outputs": [],
   "source": [
    "from sklearn.ensemble import RandomForestClassifier\n",
    "rfc = RandomForestClassifier()\n",
    "rfc.fit(X_resampled, y_resampled)"
   ]
  },
  {
   "cell_type": "code",
   "execution_count": null,
   "id": "dd7dcc31",
   "metadata": {},
   "outputs": [],
   "source": [
    "y_pred = rfc.predict(X_resampled)\n",
    "accuracy_score(y_resampled,y_pred)"
   ]
  },
  {
   "cell_type": "code",
   "execution_count": null,
   "id": "0c1b22c4",
   "metadata": {},
   "outputs": [],
   "source": [
    "print(classification_report(y_resampled,y_pred))"
   ]
  },
  {
   "cell_type": "code",
   "execution_count": null,
   "id": "f46e0ff3",
   "metadata": {},
   "outputs": [],
   "source": [
    "y_resampled = list (y_resampled)"
   ]
  },
  {
   "cell_type": "code",
   "execution_count": null,
   "id": "959c8ccf",
   "metadata": {},
   "outputs": [],
   "source": [
    "plt.plot(y_resampled, color ='blue', label='Actual Value')\n",
    "plt.plot(y_pred, color ='green',label='Predicted Values')\n",
    "plt.title ('Actual VS Predicted Contribtuion Range')\n",
    "plt.xlabel('Number of values')\n",
    "plt.ylabel('Contribution Range')\n",
    "plt.legend()\n",
    "plt.show()"
   ]
  },
  {
   "cell_type": "code",
   "execution_count": null,
   "id": "cad97526",
   "metadata": {},
   "outputs": [],
   "source": [
    "plt.plot(y_resampled, color ='blue', label='Actual Value')"
   ]
  },
  {
   "cell_type": "code",
   "execution_count": null,
   "id": "9e568525",
   "metadata": {},
   "outputs": [],
   "source": []
  },
  {
   "cell_type": "code",
   "execution_count": null,
   "id": "946d6372",
   "metadata": {},
   "outputs": [],
   "source": []
  },
  {
   "cell_type": "code",
   "execution_count": null,
   "id": "4f89a2c0",
   "metadata": {},
   "outputs": [],
   "source": []
  },
  {
   "cell_type": "code",
   "execution_count": null,
   "id": "d6682f9d",
   "metadata": {},
   "outputs": [],
   "source": [
    "import joblib\n",
    "range_model = \"range_final_model.pkl\"\n",
    "joblib.dump(rfc, range_model)"
   ]
  },
  {
   "cell_type": "code",
   "execution_count": null,
   "id": "b62636f9",
   "metadata": {},
   "outputs": [],
   "source": []
  },
  {
   "cell_type": "code",
   "execution_count": null,
   "id": "c198b3ad",
   "metadata": {},
   "outputs": [],
   "source": []
  },
  {
   "cell_type": "code",
   "execution_count": null,
   "id": "5bb90d77",
   "metadata": {},
   "outputs": [],
   "source": [
    "params={\n",
    "    'max_depth': [3, 5, 10, None],\n",
    "    'n_estimators': [10, 100, 200, 300, 400, 500],\n",
    "    'max_features': [1,2,3],\n",
    "    'criterion': ['gini', 'entropy'],\n",
    "    'bootstrap': [True, False],\n",
    "    'min_samples_leaf': [1,2,3,4],\n",
    "}"
   ]
  },
  {
   "cell_type": "code",
   "execution_count": null,
   "id": "b15fcfb4",
   "metadata": {},
   "outputs": [],
   "source": [
    "from sklearn.model_selection import RandomizedSearchCV\n",
    "random_search = RandomizedSearchCV(rfc, param_distributions=params, scoring= 'roc_auc', n_jobs= -1, verbose= 3, random_state=51)\n",
    "random_search.fit(X_resampled, y_resampled)"
   ]
  },
  {
   "cell_type": "code",
   "execution_count": null,
   "id": "3533a3e3",
   "metadata": {},
   "outputs": [],
   "source": [
    "random_search.best_params_"
   ]
  },
  {
   "cell_type": "code",
   "execution_count": null,
   "id": "0a5eab68",
   "metadata": {},
   "outputs": [],
   "source": [
    "random_search.best_estimator_"
   ]
  },
  {
   "cell_type": "code",
   "execution_count": null,
   "id": "ce558603",
   "metadata": {},
   "outputs": [],
   "source": [
    "from sklearn.ensemble import RandomForestClassifier\n",
    "rfc = RandomForestClassifier(bootstrap=False, criterion='entropy', max_depth=10,\n",
    "                       max_features=1, min_samples_leaf=3, n_estimators=200)\n",
    "rfc.fit(X_resampled, y_resampled)"
   ]
  },
  {
   "cell_type": "code",
   "execution_count": null,
   "id": "c6c2ee96",
   "metadata": {},
   "outputs": [],
   "source": [
    "y_pred = rfc.predict(X_resampled)\n",
    "accuracy_score(y_resampled,y_pred)"
   ]
  },
  {
   "cell_type": "code",
   "execution_count": null,
   "id": "6a95b3a2",
   "metadata": {},
   "outputs": [],
   "source": [
    "print(classification_report(y_resampled,y_pred))"
   ]
  },
  {
   "cell_type": "code",
   "execution_count": null,
   "id": "f26c8778",
   "metadata": {},
   "outputs": [],
   "source": []
  },
  {
   "cell_type": "code",
   "execution_count": null,
   "id": "210bf553",
   "metadata": {},
   "outputs": [],
   "source": []
  },
  {
   "cell_type": "code",
   "execution_count": null,
   "id": "890ba5ef",
   "metadata": {},
   "outputs": [],
   "source": []
  },
  {
   "cell_type": "code",
   "execution_count": null,
   "id": "4618f662",
   "metadata": {},
   "outputs": [],
   "source": [
    "from sklearn.neural_network import MLPClassifier\n",
    "MLP = MLPClassifier(hidden_layer_sizes=(10,10,10), max_iter=1000)\n",
    "MLP.fit(X_resampled, y_resampled.values.ravel())"
   ]
  },
  {
   "cell_type": "code",
   "execution_count": null,
   "id": "45d66150",
   "metadata": {},
   "outputs": [],
   "source": [
    "prediction = MLP.predict(X_resampled)"
   ]
  },
  {
   "cell_type": "code",
   "execution_count": null,
   "id": "ed7d3a91",
   "metadata": {},
   "outputs": [],
   "source": [
    "accuracy_score(y_resampled,prediction)"
   ]
  },
  {
   "cell_type": "code",
   "execution_count": null,
   "id": "ade74cfd",
   "metadata": {},
   "outputs": [],
   "source": [
    "print(classification_report(y_resampled,y_pred))"
   ]
  },
  {
   "cell_type": "code",
   "execution_count": null,
   "id": "17294675",
   "metadata": {},
   "outputs": [],
   "source": []
  },
  {
   "cell_type": "code",
   "execution_count": null,
   "id": "7048d0df",
   "metadata": {},
   "outputs": [],
   "source": [
    "from sklearn.neural_network import MLPClassifier\n",
    "MLP = MLPClassifier(hidden_layer_sizes=(10,10,10), max_iter=1000)\n",
    "MLP.fit(X_resampled, y_resampled)"
   ]
  },
  {
   "cell_type": "code",
   "execution_count": null,
   "id": "3b28442f",
   "metadata": {},
   "outputs": [],
   "source": [
    "prediction = MLP.predict(X_resampled)"
   ]
  },
  {
   "cell_type": "code",
   "execution_count": null,
   "id": "00fb29d7",
   "metadata": {},
   "outputs": [],
   "source": [
    "accuracy_score(y_resampled,prediction)"
   ]
  },
  {
   "cell_type": "code",
   "execution_count": null,
   "id": "73fc2721",
   "metadata": {},
   "outputs": [],
   "source": [
    "print(classification_report(y_resampled,y_pred))"
   ]
  },
  {
   "cell_type": "code",
   "execution_count": null,
   "id": "34682547",
   "metadata": {},
   "outputs": [],
   "source": []
  },
  {
   "cell_type": "code",
   "execution_count": null,
   "id": "bb9b960b",
   "metadata": {},
   "outputs": [],
   "source": [
    "from sklearn.ensemble import RandomForestClassifier\n",
    "rfc = RandomForestClassifier()\n",
    "rfc.fit(X, y)"
   ]
  },
  {
   "cell_type": "code",
   "execution_count": null,
   "id": "b648a246",
   "metadata": {},
   "outputs": [],
   "source": [
    "y_pred = rfc.predict(X)\n",
    "accuracy_score(y,y_pred)"
   ]
  },
  {
   "cell_type": "code",
   "execution_count": null,
   "id": "9ce4d686",
   "metadata": {},
   "outputs": [],
   "source": [
    "print(classification_report(y,y_pred))"
   ]
  },
  {
   "cell_type": "code",
   "execution_count": null,
   "id": "1b1823ff",
   "metadata": {},
   "outputs": [],
   "source": []
  },
  {
   "cell_type": "code",
   "execution_count": null,
   "id": "fc7fa685",
   "metadata": {},
   "outputs": [],
   "source": [
    "#GrdaientBoosting"
   ]
  },
  {
   "cell_type": "code",
   "execution_count": null,
   "id": "49342568",
   "metadata": {},
   "outputs": [],
   "source": [
    "from sklearn.ensemble import GradientBoostingClassifier"
   ]
  },
  {
   "cell_type": "code",
   "execution_count": null,
   "id": "a4204553",
   "metadata": {},
   "outputs": [],
   "source": [
    "#Iniciating the model"
   ]
  },
  {
   "cell_type": "code",
   "execution_count": null,
   "id": "3ac21044",
   "metadata": {},
   "outputs": [],
   "source": [
    "gbc = GradientBoostingClassifier(random_state=42)"
   ]
  },
  {
   "cell_type": "code",
   "execution_count": null,
   "id": "317b5468",
   "metadata": {},
   "outputs": [],
   "source": [
    "#Fitting and Training the model "
   ]
  },
  {
   "cell_type": "code",
   "execution_count": null,
   "id": "5135a4c6",
   "metadata": {},
   "outputs": [],
   "source": [
    "gbc.fit(X_resampled, y_resampled)"
   ]
  },
  {
   "cell_type": "code",
   "execution_count": null,
   "id": "bb771e08",
   "metadata": {},
   "outputs": [],
   "source": [
    "#Checking the accuracy"
   ]
  },
  {
   "cell_type": "code",
   "execution_count": null,
   "id": "d17193a7",
   "metadata": {},
   "outputs": [],
   "source": [
    "y_pred = gbc.predict(X_resampled)"
   ]
  },
  {
   "cell_type": "code",
   "execution_count": null,
   "id": "0327a958",
   "metadata": {},
   "outputs": [],
   "source": [
    "#Classification metrics to evaluate the model"
   ]
  },
  {
   "cell_type": "code",
   "execution_count": null,
   "id": "38fd1ee8",
   "metadata": {},
   "outputs": [],
   "source": [
    "#Using the built in accuracy score:\n",
    "gbc.score(X_resampled, y_resampled)"
   ]
  },
  {
   "cell_type": "code",
   "execution_count": null,
   "id": "8707feee",
   "metadata": {},
   "outputs": [],
   "source": [
    "#Using SKlearn:\n",
    "accuracy_score(y_resampled, y_pred)"
   ]
  },
  {
   "cell_type": "code",
   "execution_count": null,
   "id": "e41f47ec",
   "metadata": {},
   "outputs": [],
   "source": [
    "#Baseline accuracy score"
   ]
  },
  {
   "cell_type": "code",
   "execution_count": null,
   "id": "d6ac0f34",
   "metadata": {},
   "outputs": [],
   "source": []
  },
  {
   "cell_type": "code",
   "execution_count": null,
   "id": "2cb7ff85",
   "metadata": {},
   "outputs": [],
   "source": [
    "print(classification_report(y_resampled,y_pred))"
   ]
  },
  {
   "cell_type": "code",
   "execution_count": null,
   "id": "1e9fd6c1",
   "metadata": {},
   "outputs": [],
   "source": []
  },
  {
   "cell_type": "code",
   "execution_count": null,
   "id": "b3ed7cf1",
   "metadata": {},
   "outputs": [],
   "source": [
    "#did not work, delete!"
   ]
  },
  {
   "cell_type": "code",
   "execution_count": null,
   "id": "80694d65",
   "metadata": {},
   "outputs": [],
   "source": [
    "#GradBoosting"
   ]
  },
  {
   "cell_type": "code",
   "execution_count": null,
   "id": "505b19cc",
   "metadata": {},
   "outputs": [],
   "source": [
    "%pip install xgboost"
   ]
  },
  {
   "cell_type": "code",
   "execution_count": null,
   "id": "62afdd35",
   "metadata": {},
   "outputs": [],
   "source": [
    "import xgboost as xgb"
   ]
  },
  {
   "cell_type": "code",
   "execution_count": null,
   "id": "ecf8c234",
   "metadata": {},
   "outputs": [],
   "source": [
    "from xgboost import XGBClassifier"
   ]
  },
  {
   "cell_type": "code",
   "execution_count": null,
   "id": "703efbd8",
   "metadata": {},
   "outputs": [],
   "source": [
    "data_dmatrix = xgb.DMatrix(data=X_resampled,label=y_resampled)"
   ]
  },
  {
   "cell_type": "code",
   "execution_count": null,
   "id": "29921710",
   "metadata": {},
   "outputs": [],
   "source": [
    "from sklearn.model_selection import train_test_split\n",
    "\n",
    "X_train, X_test, y_train, y_test = train_test_split(X_resampled, y_resampled, test_size=0.2, random_state=123)"
   ]
  },
  {
   "cell_type": "code",
   "execution_count": null,
   "id": "a94ec41b",
   "metadata": {},
   "outputs": [],
   "source": [
    "xg_reg = xgb.XGBRegressor(objective ='reg:linear', colsample_bytree = 0.3, learning_rate = 0.1,\n",
    "                max_depth = 5, alpha = 10, n_estimators = 10)"
   ]
  },
  {
   "cell_type": "code",
   "execution_count": null,
   "id": "2c68fd3e",
   "metadata": {},
   "outputs": [],
   "source": [
    "xg_reg.fit(X_train,y_train)\n",
    "\n",
    "preds = xg_reg.predict(X_test)"
   ]
  },
  {
   "cell_type": "code",
   "execution_count": null,
   "id": "2bda1fbe",
   "metadata": {},
   "outputs": [],
   "source": [
    "rmse = np.sqrt(mean_squared_error(y_test, preds))\n",
    "print(\"RMSE: %f\" % (rmse))"
   ]
  },
  {
   "cell_type": "code",
   "execution_count": null,
   "id": "fc986fb6",
   "metadata": {},
   "outputs": [],
   "source": []
  },
  {
   "cell_type": "code",
   "execution_count": null,
   "id": "3f635c73",
   "metadata": {},
   "outputs": [],
   "source": [
    "y_resampled.xgboost.XGBClassifier\n"
   ]
  },
  {
   "cell_type": "code",
   "execution_count": null,
   "id": "c243b988",
   "metadata": {},
   "outputs": [],
   "source": []
  },
  {
   "cell_type": "code",
   "execution_count": null,
   "id": "7ad094bc",
   "metadata": {},
   "outputs": [],
   "source": []
  },
  {
   "cell_type": "code",
   "execution_count": null,
   "id": "fd067fec",
   "metadata": {},
   "outputs": [],
   "source": [
    "estimator = df.xgboost.XGBClassifier()"
   ]
  },
  {
   "cell_type": "code",
   "execution_count": null,
   "id": "bf8d7e60",
   "metadata": {},
   "outputs": [],
   "source": [
    "X_resampled.fit(estimator)\n",
    "XGBClassifier(base_score=0.5, colsample_bytree=1, gamma=0, learning_rate=0.1,\n",
    "       max_delta_step=0, max_depth=3, min_child_weight=1, missing=None,\n",
    "       n_estimators=100, nthread=-1, objective='multi:softprob', seed=0,\n",
    "       silent=True, subsample=1)"
   ]
  },
  {
   "cell_type": "code",
   "execution_count": null,
   "id": "e9646222",
   "metadata": {},
   "outputs": [],
   "source": [
    "predicted = test_df.predict(estimator)"
   ]
  },
  {
   "cell_type": "code",
   "execution_count": null,
   "id": "5b27c90d",
   "metadata": {},
   "outputs": [],
   "source": [
    "test_df.metrics.confusion_matrix()"
   ]
  },
  {
   "cell_type": "code",
   "execution_count": null,
   "id": "ddafe379",
   "metadata": {},
   "outputs": [],
   "source": []
  },
  {
   "cell_type": "code",
   "execution_count": null,
   "id": "ddc3eb79",
   "metadata": {},
   "outputs": [],
   "source": []
  },
  {
   "cell_type": "code",
   "execution_count": null,
   "id": "ab495bda",
   "metadata": {},
   "outputs": [],
   "source": []
  },
  {
   "cell_type": "code",
   "execution_count": null,
   "id": "64bf5e8e",
   "metadata": {},
   "outputs": [],
   "source": []
  },
  {
   "cell_type": "code",
   "execution_count": null,
   "id": "26f68116",
   "metadata": {},
   "outputs": [],
   "source": []
  },
  {
   "cell_type": "code",
   "execution_count": null,
   "id": "8e42a667",
   "metadata": {},
   "outputs": [],
   "source": []
  },
  {
   "cell_type": "code",
   "execution_count": null,
   "id": "604fe2e5",
   "metadata": {},
   "outputs": [],
   "source": [
    "pip install hyperopt"
   ]
  },
  {
   "cell_type": "code",
   "execution_count": null,
   "id": "a964f329",
   "metadata": {},
   "outputs": [],
   "source": [
    "#SVM and bagging?---->"
   ]
  },
  {
   "cell_type": "code",
   "execution_count": null,
   "id": "05c21b0e",
   "metadata": {},
   "outputs": [],
   "source": [
    "#Importing libraries"
   ]
  },
  {
   "cell_type": "code",
   "execution_count": null,
   "id": "86a68ecd",
   "metadata": {},
   "outputs": [],
   "source": [
    "import pandas as pd\n",
    "import numpy as np\n",
    "from sklearn.preprocessing import StandardScaler\n",
    "from sklearn.model_selection import train_test_split\n",
    "from sklearn.svm import SVC\n",
    "\n",
    "from sklearn.model_selection import StratifiedKFold, GridSearchCV, RandomizedSearchCV, cross_val_score\n",
    "from hyperopt import tpe, STATUS_OK, Trials, hp, fmin, STATUS_OK, space_eval"
   ]
  },
  {
   "cell_type": "code",
   "execution_count": null,
   "id": "e4d5a289",
   "metadata": {},
   "outputs": [],
   "source": [
    "#Splitting"
   ]
  },
  {
   "cell_type": "code",
   "execution_count": null,
   "id": "de27d616",
   "metadata": {},
   "outputs": [],
   "source": [
    "from sklearn.model_selection import train_test_split\n",
    "\n",
    "X_train, X_test, y_train, y_test = train_test_split(X_resampled, y_resampled, test_size=0.2, random_state=123)"
   ]
  },
  {
   "cell_type": "code",
   "execution_count": null,
   "id": "7863cbe7",
   "metadata": {},
   "outputs": [],
   "source": [
    "from imblearn.over_sampling import RandomOverSampler\n",
    "\n",
    "#rand_over_sampler = RandomOverSampler(sampling_strategy =1)#float\n",
    "rand_over_sampler = RandomOverSampler(sampling_strategy = \"not majority\") #string\n",
    "X_resampled, y_resampled = rand_over_sampler.fit_resample(X, y)\n",
    "\n",
    "ax = y_resampled.value_counts().plot.pie(autopct='%.2f')\n",
    "_=ax.set_title(\"OverSampled\")"
   ]
  },
  {
   "cell_type": "code",
   "execution_count": null,
   "id": "78e11ae3",
   "metadata": {},
   "outputs": [],
   "source": [
    "#Standardizing"
   ]
  },
  {
   "cell_type": "code",
   "execution_count": null,
   "id": "ccc69b6b",
   "metadata": {},
   "outputs": [],
   "source": [
    "sc = StandardScaler()\n",
    "X_train_transformed = pd.DataFrame(sc.fit_transform(X_train), index=X_train.index, columns=X_train.columns)\n",
    "X_test_transformed = pd.DataFrame(sc.transform(X_test), index=X_test.index, columns=X_test.columns)\n",
    "X_train_transformed.describe().T"
   ]
  },
  {
   "cell_type": "code",
   "execution_count": null,
   "id": "5c760dcd",
   "metadata": {},
   "outputs": [],
   "source": [
    "X_train.describe().T"
   ]
  },
  {
   "cell_type": "code",
   "execution_count": null,
   "id": "ab991b4e",
   "metadata": {},
   "outputs": [],
   "source": [
    "#Baseline SVM model and score"
   ]
  },
  {
   "cell_type": "code",
   "execution_count": null,
   "id": "adb5d3f9",
   "metadata": {},
   "outputs": [],
   "source": [
    "#Checking for the default/baseline parameters\n",
    "svc = SVC()\n",
    "params = svc.get_params()\n",
    "params_df = pd.DataFrame(params, index=[0])\n",
    "params_df.T"
   ]
  },
  {
   "cell_type": "code",
   "execution_count": null,
   "id": "0b27055f",
   "metadata": {},
   "outputs": [],
   "source": [
    "#Baseline model implementation\n",
    "svc.fit(X_train_transformed, y_train)\n",
    "#Accuracy Score\n",
    "print(f'The Accuracy Score of the baseline model is {svc.score(X_test_transformed, y_test):.4f}')"
   ]
  },
  {
   "cell_type": "code",
   "execution_count": null,
   "id": "7be31c7c",
   "metadata": {},
   "outputs": [],
   "source": [
    "#Using GridSearch for tuning the hyperparameters"
   ]
  },
  {
   "cell_type": "code",
   "execution_count": null,
   "id": "19f9bd87",
   "metadata": {},
   "outputs": [],
   "source": [
    "#List of C values\n",
    "C_range = np.logspace(-1,1,3)\n",
    "print(f'The list of values for C are {C_range}')\n",
    "\n",
    "#List of gamma values\n",
    "gamma_range = np.logspace(-1,1,3)\n",
    "print(f'The list of values for gamma are {gamma_range}')\n"
   ]
  },
  {
   "cell_type": "code",
   "execution_count": null,
   "id": "46bc4073",
   "metadata": {},
   "outputs": [],
   "source": [
    "#Cross Validation\n",
    "#Defining the search space\n",
    "prama_grid = {\n",
    "    #Regularization of the parameter\n",
    "    \"C\": C_range,\n",
    "    #Kernel type\n",
    "    \"kernel\": ['rbf', 'poly'],\n",
    "    #Gamma is the Kernel coefficient for 'rbf', 'poly' and 'sigmoid'\n",
    "    \"gamma\": gamma_range.tolist()+['scale', 'auto']\n",
    "}\n",
    "\n",
    "#Setting the scoring metrics\n",
    "scoring = ['accuracy']\n",
    "\n",
    "#Setting up the k-fold cross-val\n",
    "kfold = StratifiedKFold(n_splits=3, shuffle=True, random_state=0)"
   ]
  },
  {
   "cell_type": "code",
   "execution_count": null,
   "id": "66627486",
   "metadata": {},
   "outputs": [],
   "source": [
    "#Using Grid Search\n",
    "grid_search = GridSearchCV(\n",
    "    estimator=svc,\n",
    "    param_grid=param_grid,\n",
    "    scoring=scoring,\n",
    "    refit='accuracy',\n",
    "    n_jobs=-1,\n",
    "    cv=kfold,\n",
    "    verbose=0\n",
    ")\n",
    "\n",
    "#Fitting grid Search\n",
    "grid_result = grid_search.fit(X_train_transformed, y_train)\n",
    "\n",
    "#Printing grid search summary\n",
    "grid_result"
   ]
  },
  {
   "cell_type": "code",
   "execution_count": null,
   "id": "942064d9",
   "metadata": {},
   "outputs": [],
   "source": [
    "#Printing the best accuracy score for the training dataset\n",
    "print(f'The best accuracy score for the training dataset is {grid_result.best_score_:.4f}')\n",
    "#Printing the hyperparameters for the best score\n",
    "print(f'The best hyperparameters are {grid_result.best_params_}')\n",
    "#Printing the best accuracy score for the testng dataset\n",
    "print(f'The accuracy score for the testing dataset is {grid_search.score(X_test_transformed, y_test):.4f}')"
   ]
  },
  {
   "cell_type": "code",
   "execution_count": null,
   "id": "a7f8ab43",
   "metadata": {},
   "outputs": [],
   "source": [
    "#Using Random Search for tuning the hyperparameter\n",
    "#List of C values\n",
    "C_range = np.logspace(-10,10,21)\n",
    "print(f'The list of values for C are {C_range}')\n",
    "#Listing the gamma values\n",
    "gamma_range = np.logspace(-10,10,20)\n",
    "print(f'The list of values for gamma are {gamma_range}')"
   ]
  },
  {
   "cell_type": "code",
   "execution_count": null,
   "id": "836f9c84",
   "metadata": {},
   "outputs": [],
   "source": [
    "#efining the search space\n",
    "param_grid = {\n",
    "    #Parameter Regularization\n",
    "    \"C\": C_range,\n",
    "    #Type of the kernel\n",
    "    \"kernel\": ['rbf', 'poly'],\n",
    "    #Gamma is the kernel coefficient for 'rbf', 'poly', and 'sigmoid'\n",
    "    \"gamma\": gamma_range.tolist()+['sclare', 'auto']\n",
    "}\n",
    "\n",
    "#setting up the scoring metrics\n",
    "scoring = ['accuracy']\n",
    "#Setting up the kFold cross val\n",
    "kfold = StratifiedKFold(n_splits=3, shuffle=True, random_state=0)\n",
    "\n",
    "#Defining random search\n",
    "random_search = RandomizedSearchCV(\n",
    "    estimator = svc,\n",
    "    param_distributions=param_grid,\n",
    "    n_iter=100,\n",
    "    scoring=scoring,\n",
    "    refit='accuracy',\n",
    "    n_jobs=-1,\n",
    "    cv=kfold,\n",
    "    verbose=0\n",
    ")\n",
    "\n",
    "#Fitting grid search\n",
    "random_result = random_search.fit(X_train_transformed, y_train)\n",
    "\n",
    "#Printting summary of the grid search \n",
    "random_result"
   ]
  },
  {
   "cell_type": "code",
   "execution_count": null,
   "id": "9a755e97",
   "metadata": {},
   "outputs": [],
   "source": [
    "#Printing the best accuracy score for the training dataset\n",
    "print(f'The best accuracy score for the training dataset is {random_result.best_score_:.4f}')\n",
    "#Printing the hyperparameters for the best score\n",
    "print(f'The best hyperparameters are {random_result.best_params_}')\n",
    "#Printing the best accuracy score for the testing dataset\n",
    "print(f'The accuracy score for the testing dataset is {random_search.score(X_test_transformed, y_test):.4f}')"
   ]
  },
  {
   "cell_type": "code",
   "execution_count": null,
   "id": "38f29cbb",
   "metadata": {},
   "outputs": [],
   "source": [
    "#Using Bayesian Optimization for hyperparameter Tuning\n",
    "#Defining the space\n",
    "Space = {\n",
    "    'C'  : hp.choice('C', C_range),\n",
    "    'gamma' : hp.choice('gamma', gamma_range.tolist()+['scale', 'auto']),\n",
    "    'kernel' : hp.choice('kernal', ['rbf', 'poly'])\n",
    "\n",
    "}\n",
    "\n",
    "#Setting up the k-fold cross-val\n",
    "kfold = StratifiedKFold(n_splits=3, shuffle=True, random_state=0)\n",
    "\n",
    "#Objective function\n",
    "def objective(params):\n",
    "    \n",
    "    svc = SCV(**params)\n",
    "    scores = cross_val_score(svc, x_train_transformed, y_train, cv=kfold, scoring='accuracy', n_jobs=-1)\n",
    "    \n",
    "    #Extracting the best score\n",
    "    best_score = max(scores)\n",
    "    \n",
    "    #Minimizing Loss\n",
    "    loss = - best_score\n",
    "    \n",
    "    #Dictionary with information for evaluation\n",
    "    return {'loss': loss, 'params': params, 'status': STATUS_OK}\n",
    "\n",
    "#Using Trials to track progress\n",
    "bayes_trails = Trails()\n",
    "\n",
    "#Optimize\n",
    "best = fmin(fn = objective, space = space, algo = tpe.suggest, max_evals = 100, trails = bayes_trails)"
   ]
  },
  {
   "cell_type": "code",
   "execution_count": null,
   "id": "3ccdbc12",
   "metadata": {},
   "outputs": [],
   "source": [
    "#Printing the index of the best parameters\n",
    "print(best)\n",
    "\n",
    "#Printing the values of the best parameters\n",
    "print(space_eval(space, best))"
   ]
  },
  {
   "cell_type": "code",
   "execution_count": null,
   "id": "f90c9038",
   "metadata": {},
   "outputs": [],
   "source": [
    "# Training the model using the best parameters\n",
    "svc_bo = SVC(C=space_eval(space, best)['C'], gamma=space_eval(space, best)['gamma'], kernel=space_eval(space, best)['kernel']).fit(X_train_transformed,y_train)\n",
    "# Print the best accuracy score for the testing dataset\n",
    "print(f'The accuracy score for the testing dataset is {svc_bo.score(X_test_transformed, y_test):.4f}')"
   ]
  },
  {
   "cell_type": "code",
   "execution_count": null,
   "id": "835172cf",
   "metadata": {},
   "outputs": [],
   "source": []
  }
 ],
 "metadata": {
  "kernelspec": {
   "display_name": "Python 3 (ipykernel)",
   "language": "python",
   "name": "python3"
  },
  "language_info": {
   "codemirror_mode": {
    "name": "ipython",
    "version": 3
   },
   "file_extension": ".py",
   "mimetype": "text/x-python",
   "name": "python",
   "nbconvert_exporter": "python",
   "pygments_lexer": "ipython3",
   "version": "3.10.4"
  }
 },
 "nbformat": 4,
 "nbformat_minor": 5
}
